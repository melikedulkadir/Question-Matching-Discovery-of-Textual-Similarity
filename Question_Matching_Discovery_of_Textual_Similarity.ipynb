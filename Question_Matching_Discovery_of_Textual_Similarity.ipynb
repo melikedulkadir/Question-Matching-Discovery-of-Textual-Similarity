{
 "cells": [
  {
   "cell_type": "markdown",
   "id": "10cbee0f79a0f525",
   "metadata": {},
   "source": [
    "# AIN423 Data Science Capstone Project (DSCP) : Question Matching: Discovery of Textual Similarity\n",
    "\n",
    "**Due Date:** 21.05.2024\n",
    "\n",
    "---------------------------------------\n",
    "\n",
    "**Instructor:** Tuğba Gürgen Erdoğan\n",
    "\n",
    "\n",
    "---------------------------------------\n",
    "**Student Name Surname**: Melike Nur Dulkadir\n",
    "**Student ID**: 21992919"
   ]
  },
  {
   "cell_type": "markdown",
   "id": "c7e4ce7e8f917755",
   "metadata": {},
   "source": [
    "<p align=\"center\">\n",
    "  <img src=\"https://media.springernature.com/lw685/springer-static/image/chp%3A10.1007%2F978-3-031-21422-6_23/MediaObjects/537721_1_En_23_Fig1_HTML.png\" alt=\"Data Science Life Cycle\" width=\"550\">\n",
    "</p>"
   ]
  },
  {
   "cell_type": "markdown",
   "id": "65b1f8ff59041fde",
   "metadata": {},
   "source": [
    "In the digital era, the availability of vast textual data and user queries has created a significant demand for efficient question matching systems. These systems aim to align user queries with relevant information from databases such as frequently asked questions (FAQs). By leveraging integrated datasets, the project seeks to diversify and enhance the data used for developing a question matching system, thus potentially improving its performance and generalizability.\n",
    "Modern technology, such as large language models (LLMs), has achieved significant progress in question matching and providing accurate responses. However, traditional natural language processsing (NLP) techniques also offer the potential for strong results in this domain. The main challenge arises from existing systems that may lack sufficient data diversity and may not fully leverage suitable evaluation metrics. Consequently, the efficiency and reliability of these systems may be suboptimal. By employing various similarity metrics and NLP techniques, utilizing different types of data, and optimizing existing systems, the performance and accuracy of question matching systems can potentially be enhanced.\n",
    "To address these challenges, the project proposes the development of a robust question matching system that incorporates various datasets to enhance data diversity. The approach involves the use of advanced similarity metrics and NLP analysis to compare questions within the Quora dataset and other sources. By creating a target column in the second dataset and merging it with the Quora dataset, the system aims to achieve greater accuracy in matching questions. Furthermore, a pipeline of machine learning models such as logistic regression and XGBoost, with hyperparameter tuning, will be constructed to optimize performance. The end goal is to effectively match user queries with FAQ questions, providing accurate and helpful responses when a specified similarity threshold is surpassed\n"
   ]
  },
  {
   "cell_type": "markdown",
   "id": "5c56a887be7c4b30",
   "metadata": {},
   "source": [
    "Before starting the project, the necessary libraries are imported."
   ]
  },
  {
   "cell_type": "code",
   "id": "initial_id",
   "metadata": {
    "ExecuteTime": {
     "end_time": "2024-05-17T20:14:41.255899Z",
     "start_time": "2024-05-17T20:14:41.226922Z"
    }
   },
   "source": [
    "import pandas as pd\n",
    "import numpy as np\n",
    "from sklearn.feature_extraction.text import CountVectorizer\n",
    "from sklearn.metrics.pairwise import cosine_similarity\n",
    "from scipy.spatial.distance import euclidean, jaccard\n",
    "from sklearn.feature_extraction.text import TfidfVectorizer\n",
    "from sklearn.preprocessing import MinMaxScaler\n",
    "from sklearn.preprocessing import Binarizer\n",
    "from sklearn.model_selection import train_test_split\n",
    "from sklearn.metrics import precision_score, recall_score, accuracy_score, f1_score, confusion_matrix\n",
    "from nltk.stem import PorterStemmer\n",
    "from nltk.tokenize import RegexpTokenizer\n",
    "from nltk.stem import WordNetLemmatizer\n",
    "import re\n",
    "from gensim.utils import simple_preprocess\n",
    "from nltk.corpus import stopwords\n",
    "from nltk.tokenize import word_tokenize\n",
    "from string import punctuation\n",
    "from gensim.models import Word2Vec, KeyedVectors\n",
    "import seaborn as sns\n",
    "import matplotlib.pyplot as plt\n",
    "\n",
    "from sklearn.ensemble import RandomForestClassifier\n",
    "from sklearn.linear_model import LogisticRegression\n",
    "import xgboost as xgb\n",
    "\n",
    "import warnings\n",
    "warnings.filterwarnings(\"ignore\", category=Warning)"
   ],
   "outputs": [],
   "execution_count": 207
  },
  {
   "cell_type": "code",
   "id": "3d3f4ef58bee8100",
   "metadata": {
    "ExecuteTime": {
     "end_time": "2024-05-17T20:14:42.931376Z",
     "start_time": "2024-05-17T20:14:41.651371Z"
    }
   },
   "source": [
    "df = pd.read_csv(\"questions.csv\")"
   ],
   "outputs": [],
   "execution_count": 208
  },
  {
   "cell_type": "code",
   "id": "cc8ad60e902745cc",
   "metadata": {
    "colab": {
     "base_uri": "https://localhost:8080/",
     "height": 206
    },
    "id": "cc8ad60e902745cc",
    "outputId": "b5f38e58-7232-4727-b1e3-b562877b320f",
    "ExecuteTime": {
     "end_time": "2024-05-17T20:14:42.963374Z",
     "start_time": "2024-05-17T20:14:42.936332Z"
    }
   },
   "source": [
    "df.head()"
   ],
   "outputs": [
    {
     "data": {
      "text/plain": [
       "   id  qid1  qid2                                          question1  \\\n",
       "0   0     1     2  What is the step by step guide to invest in sh...   \n",
       "1   1     3     4  What is the story of Kohinoor (Koh-i-Noor) Dia...   \n",
       "2   2     5     6  How can I increase the speed of my internet co...   \n",
       "3   3     7     8  Why am I mentally very lonely? How can I solve...   \n",
       "4   4     9    10  Which one dissolve in water quikly sugar, salt...   \n",
       "\n",
       "                                           question2  is_duplicate  \n",
       "0  What is the step by step guide to invest in sh...             0  \n",
       "1  What would happen if the Indian government sto...             0  \n",
       "2  How can Internet speed be increased by hacking...             0  \n",
       "3  Find the remainder when [math]23^{24}[/math] i...             0  \n",
       "4            Which fish would survive in salt water?             0  "
      ],
      "text/html": [
       "<div>\n",
       "<style scoped>\n",
       "    .dataframe tbody tr th:only-of-type {\n",
       "        vertical-align: middle;\n",
       "    }\n",
       "\n",
       "    .dataframe tbody tr th {\n",
       "        vertical-align: top;\n",
       "    }\n",
       "\n",
       "    .dataframe thead th {\n",
       "        text-align: right;\n",
       "    }\n",
       "</style>\n",
       "<table border=\"1\" class=\"dataframe\">\n",
       "  <thead>\n",
       "    <tr style=\"text-align: right;\">\n",
       "      <th></th>\n",
       "      <th>id</th>\n",
       "      <th>qid1</th>\n",
       "      <th>qid2</th>\n",
       "      <th>question1</th>\n",
       "      <th>question2</th>\n",
       "      <th>is_duplicate</th>\n",
       "    </tr>\n",
       "  </thead>\n",
       "  <tbody>\n",
       "    <tr>\n",
       "      <th>0</th>\n",
       "      <td>0</td>\n",
       "      <td>1</td>\n",
       "      <td>2</td>\n",
       "      <td>What is the step by step guide to invest in sh...</td>\n",
       "      <td>What is the step by step guide to invest in sh...</td>\n",
       "      <td>0</td>\n",
       "    </tr>\n",
       "    <tr>\n",
       "      <th>1</th>\n",
       "      <td>1</td>\n",
       "      <td>3</td>\n",
       "      <td>4</td>\n",
       "      <td>What is the story of Kohinoor (Koh-i-Noor) Dia...</td>\n",
       "      <td>What would happen if the Indian government sto...</td>\n",
       "      <td>0</td>\n",
       "    </tr>\n",
       "    <tr>\n",
       "      <th>2</th>\n",
       "      <td>2</td>\n",
       "      <td>5</td>\n",
       "      <td>6</td>\n",
       "      <td>How can I increase the speed of my internet co...</td>\n",
       "      <td>How can Internet speed be increased by hacking...</td>\n",
       "      <td>0</td>\n",
       "    </tr>\n",
       "    <tr>\n",
       "      <th>3</th>\n",
       "      <td>3</td>\n",
       "      <td>7</td>\n",
       "      <td>8</td>\n",
       "      <td>Why am I mentally very lonely? How can I solve...</td>\n",
       "      <td>Find the remainder when [math]23^{24}[/math] i...</td>\n",
       "      <td>0</td>\n",
       "    </tr>\n",
       "    <tr>\n",
       "      <th>4</th>\n",
       "      <td>4</td>\n",
       "      <td>9</td>\n",
       "      <td>10</td>\n",
       "      <td>Which one dissolve in water quikly sugar, salt...</td>\n",
       "      <td>Which fish would survive in salt water?</td>\n",
       "      <td>0</td>\n",
       "    </tr>\n",
       "  </tbody>\n",
       "</table>\n",
       "</div>"
      ]
     },
     "execution_count": 209,
     "metadata": {},
     "output_type": "execute_result"
    }
   ],
   "execution_count": 209
  },
  {
   "cell_type": "code",
   "id": "3ec05b98611d7827",
   "metadata": {
    "colab": {
     "base_uri": "https://localhost:8080/"
    },
    "id": "3ec05b98611d7827",
    "outputId": "6f28e23a-faef-4c62-a8a5-d99af968140f",
    "ExecuteTime": {
     "end_time": "2024-05-17T20:14:42.979338Z",
     "start_time": "2024-05-17T20:14:42.965336Z"
    }
   },
   "source": [
    "df.shape"
   ],
   "outputs": [
    {
     "data": {
      "text/plain": [
       "(404351, 6)"
      ]
     },
     "execution_count": 210,
     "metadata": {},
     "output_type": "execute_result"
    }
   ],
   "execution_count": 210
  },
  {
   "cell_type": "code",
   "id": "70b96b3a5f735073",
   "metadata": {
    "colab": {
     "base_uri": "https://localhost:8080/"
    },
    "id": "70b96b3a5f735073",
    "outputId": "cfe1b25c-4657-4029-9827-1a8e970a44d5",
    "ExecuteTime": {
     "end_time": "2024-05-17T20:14:44.133299Z",
     "start_time": "2024-05-17T20:14:44.088288Z"
    }
   },
   "source": [
    "df.isna().sum()"
   ],
   "outputs": [
    {
     "data": {
      "text/plain": [
       "id              0\n",
       "qid1            0\n",
       "qid2            0\n",
       "question1       1\n",
       "question2       2\n",
       "is_duplicate    0\n",
       "dtype: int64"
      ]
     },
     "execution_count": 211,
     "metadata": {},
     "output_type": "execute_result"
    }
   ],
   "execution_count": 211
  },
  {
   "cell_type": "markdown",
   "id": "20cc3ae35170f863",
   "metadata": {},
   "source": [
    "There are null values in the data, and these rows are removed from the dataset."
   ]
  },
  {
   "cell_type": "code",
   "id": "e3a7419b07839ad",
   "metadata": {
    "id": "e3a7419b07839ad",
    "ExecuteTime": {
     "end_time": "2024-05-17T20:14:46.032562Z",
     "start_time": "2024-05-17T20:14:45.955474Z"
    }
   },
   "source": [
    "df.dropna(inplace=True)"
   ],
   "outputs": [],
   "execution_count": 212
  },
  {
   "cell_type": "code",
   "id": "ecc2c67b1ad8ca",
   "metadata": {
    "colab": {
     "base_uri": "https://localhost:8080/"
    },
    "id": "ecc2c67b1ad8ca",
    "outputId": "4235af97-95ec-496f-a7cc-9bbb38f44995",
    "ExecuteTime": {
     "end_time": "2024-05-17T20:14:49.107709Z",
     "start_time": "2024-05-17T20:14:49.097709Z"
    }
   },
   "source": [
    "df.is_duplicate.value_counts()"
   ],
   "outputs": [
    {
     "data": {
      "text/plain": [
       "is_duplicate\n",
       "0    255042\n",
       "1    149306\n",
       "Name: count, dtype: int64"
      ]
     },
     "execution_count": 213,
     "metadata": {},
     "output_type": "execute_result"
    }
   ],
   "execution_count": 213
  },
  {
   "cell_type": "markdown",
   "id": "27ccce97d329bdcc",
   "metadata": {},
   "source": [
    "###### Vectorization Methods:\n",
    "- CountVectorizer: A collection of text documents was converted to a matrix of token counts.\n",
    "- TF-IDF Vectorizer: Text was transformed into feature vectors by considering the frequency of terms in the document and across the corpus.\n",
    "- Word2Vec (Gensim): Word embeddings were generated using the Gensim library.\n",
    "- Word2Vec (GoogleNews-vectors-negative300.bin): Pre-trained word embeddings from the GoogleNews corpus were used.\n"
   ]
  },
  {
   "cell_type": "markdown",
   "id": "349d3c18422e13db",
   "metadata": {},
   "source": [
    "###### Similarity Metrics:\n",
    "- Cosine Similarity: The cosine of the angle between two non-zero vectors in a multi-dimensional space was measured.\n",
    "- Euclidean Distance: The straight-line distance between two points in Euclidean space was calculated.\n",
    "- Jaccard Similarity: The similarity between two sets was computed by dividing the size of their intersection by the size of their union.\n"
   ]
  },
  {
   "cell_type": "markdown",
   "id": "aeec7513986b5e6e",
   "metadata": {},
   "source": [
    "## WITH COUNT VECTORIZER"
   ]
  },
  {
   "metadata": {},
   "cell_type": "markdown",
   "source": "- CountVectorizer is a popular technique used in natural language processing (NLP) for converting text data into numerical representations. It works by creating a vocabulary of words from the text corpus and then counting the occurrences of each word in each document. The result is a matrix where each row represents a document, each column represents a word in the vocabulary, and the values represent the frequency of each word in the document. CountVectorizer is a simple yet effective method for text preprocessing and feature extraction, commonly used in tasks such as document classification, sentiment analysis, and text mining.",
   "id": "e348f0e31fa3b052"
  },
  {
   "metadata": {},
   "cell_type": "code",
   "outputs": [],
   "execution_count": 214,
   "source": [
    "def calculate_metrics(TN, FP, FN, TP):\n",
    "    # Creating true labels and predicted labels arrays\n",
    "    y_true = np.array([0] * (TN + FP) + [1] * (FN + TP))\n",
    "    y_pred = np.array([0] * TN + [1] * FP + [0] * FN + [1] * TP)\n",
    "\n",
    "    # Calculating precision, recall, and accuracy\n",
    "    precision = precision_score(y_true, y_pred) \n",
    "    recall = recall_score(y_true, y_pred)  \n",
    "    accuracy = accuracy_score(y_true, y_pred) \n",
    "\n",
    "    return precision, recall, accuracy"
   ],
   "id": "6187ff9d8baf3b14"
  },
  {
   "cell_type": "code",
   "id": "e24b1d538a3e361c",
   "metadata": {
    "ExecuteTime": {
     "end_time": "2024-05-17T20:14:53.368395Z",
     "start_time": "2024-05-17T20:14:53.355382Z"
    }
   },
   "source": [
    "def print_metrics(tn,tp):\n",
    "    # Assigning values to variables\n",
    "    TN = tn  \n",
    "    FN = 149306 - tp  \n",
    "    TP = tp  \n",
    "    FP = 255042 - tn  \n",
    "    \n",
    "    # Calculating precision, recall, and accuracy using calculate_metrics function\n",
    "    precision, recall, accuracy = calculate_metrics(TN, FP, FN, TP)\n",
    "    \n",
    "    # Printing the calculated metrics\n",
    "    print(f\"Precision: {precision:.4f}\")  \n",
    "    print(f\"Recall: {recall:.4f}\")  \n",
    "    print(f\"Accuracy: {accuracy:.4f}\")  "
   ],
   "outputs": [],
   "execution_count": 215
  },
  {
   "cell_type": "code",
   "id": "469773ecdfa2aace",
   "metadata": {
    "ExecuteTime": {
     "end_time": "2024-05-17T20:15:05.068148Z",
     "start_time": "2024-05-17T20:14:53.711382Z"
    }
   },
   "source": [
    "vectorizer = CountVectorizer()\n",
    "vectors = vectorizer.fit_transform(df['question1'].tolist() + df['question2'].tolist())"
   ],
   "outputs": [],
   "execution_count": 216
  },
  {
   "cell_type": "code",
   "id": "59ffbd0d5daaeecc",
   "metadata": {
    "id": "59ffbd0d5daaeecc",
    "ExecuteTime": {
     "end_time": "2024-05-17T20:15:05.099053Z",
     "start_time": "2024-05-17T20:15:05.072053Z"
    }
   },
   "source": [
    "data = df.copy()"
   ],
   "outputs": [],
   "execution_count": 217
  },
  {
   "cell_type": "markdown",
   "id": "b686458f918a00b6",
   "metadata": {},
   "source": [
    "Cosine Similarity:\n",
    "- Thresholds tested: 0.50, 0.75\n",
    "- Highest precision: 0.55 (0.5335) at a threshold of 0.55"
   ]
  },
  {
   "cell_type": "code",
   "id": "7b1b504d4899015f",
   "metadata": {
    "id": "7b1b504d4899015f",
    "ExecuteTime": {
     "end_time": "2024-05-17T20:23:33.013884Z",
     "start_time": "2024-05-17T20:15:05.101053Z"
    }
   },
   "source": [
    "data['cosine_similarity'] = [\n",
    "    cosine_similarity(vectors[i], vectors[i + len(data)])[0, 0]\n",
    "    for i in range(len(data))\n",
    "]"
   ],
   "outputs": [],
   "execution_count": 218
  },
  {
   "cell_type": "code",
   "id": "356836f684db8c82",
   "metadata": {
    "id": "356836f684db8c82",
    "ExecuteTime": {
     "end_time": "2024-05-17T20:23:33.076915Z",
     "start_time": "2024-05-17T20:23:33.018837Z"
    }
   },
   "source": [
    "tn = len(data[(data['cosine_similarity'] < 0.55) & (data['is_duplicate'] == 0)])\n",
    "tp = len(data[(data['cosine_similarity'] >= 0.55) & (data['is_duplicate'] == 1)])"
   ],
   "outputs": [],
   "execution_count": 219
  },
  {
   "cell_type": "code",
   "id": "431ba33e527f3f14",
   "metadata": {
    "ExecuteTime": {
     "end_time": "2024-05-17T20:23:33.329879Z",
     "start_time": "2024-05-17T20:23:33.077889Z"
    }
   },
   "source": [
    "print_metrics(tn,tp)"
   ],
   "outputs": [
    {
     "name": "stdout",
     "output_type": "stream",
     "text": [
      "Precision: 0.5335\n",
      "Recall: 0.6303\n",
      "Accuracy: 0.6600\n"
     ]
    }
   ],
   "execution_count": 220
  },
  {
   "cell_type": "markdown",
   "id": "b5d42981ad6bce00",
   "metadata": {},
   "source": [
    "Euclidean Distance:\n",
    "- Thresholds tested: 0.01, 0.10, 0.50\n",
    "- Highest precision: 0.05 (0.3588) at a threshold of 0.05\n"
   ]
  },
  {
   "cell_type": "code",
   "id": "ab5410f19edb6a3e",
   "metadata": {
    "id": "ab5410f19edb6a3e",
    "ExecuteTime": {
     "end_time": "2024-05-17T20:29:13.914382Z",
     "start_time": "2024-05-17T20:23:33.331889Z"
    }
   },
   "source": [
    "data['euclidean_distance'] = [\n",
    "    euclidean(vectors[i].toarray().flatten(), vectors[i + len(data)].toarray().flatten())\n",
    "    for i in range(len(data))\n",
    "]"
   ],
   "outputs": [],
   "execution_count": 221
  },
  {
   "cell_type": "code",
   "id": "1fcce84f31964103",
   "metadata": {
    "id": "1fcce84f31964103",
    "ExecuteTime": {
     "end_time": "2024-05-17T20:29:13.976438Z",
     "start_time": "2024-05-17T20:29:13.922376Z"
    }
   },
   "source": [
    "scaler = MinMaxScaler()\n",
    "data['scaled_euclidean_distance'] = scaler.fit_transform(data[['euclidean_distance']])"
   ],
   "outputs": [],
   "execution_count": 222
  },
  {
   "cell_type": "code",
   "id": "ca595cac206e6566",
   "metadata": {
    "id": "ca595cac206e6566",
    "ExecuteTime": {
     "end_time": "2024-05-17T20:29:14.039543Z",
     "start_time": "2024-05-17T20:29:13.978495Z"
    }
   },
   "source": [
    "tn = len(data[(data['scaled_euclidean_distance'] < 0.05) & (data['is_duplicate'] == 0)])\n",
    "tp = len(data[(data['scaled_euclidean_distance'] >= 0.05) & (data['is_duplicate'] == 1)])"
   ],
   "outputs": [],
   "execution_count": 223
  },
  {
   "cell_type": "code",
   "id": "8cd8ab128befd85a",
   "metadata": {
    "id": "8cd8ab128befd85a",
    "outputId": "37d17d3f-b928-4b35-dd90-a3c0fc33674c",
    "ExecuteTime": {
     "end_time": "2024-05-17T20:29:14.355484Z",
     "start_time": "2024-05-17T20:29:14.042515Z"
    }
   },
   "source": [
    "print_metrics(tn,tp)"
   ],
   "outputs": [
    {
     "name": "stdout",
     "output_type": "stream",
     "text": [
      "Precision: 0.3588\n",
      "Recall: 0.9389\n",
      "Accuracy: 0.3580\n"
     ]
    }
   ],
   "execution_count": 224
  },
  {
   "cell_type": "markdown",
   "id": "bb8770758d6ed273",
   "metadata": {},
   "source": [
    "Jaccard Similarity:\n",
    "- Thresholds tested: 0.35, 0.45, 0.50, 0.55\n",
    "- Highest precision: 0.35 (0.5385) at a threshold of 0.35\n"
   ]
  },
  {
   "cell_type": "code",
   "id": "718376d6704aa9e6",
   "metadata": {
    "id": "718376d6704aa9e6",
    "ExecuteTime": {
     "end_time": "2024-05-17T20:32:57.361297Z",
     "start_time": "2024-05-17T20:29:14.360527Z"
    }
   },
   "source": [
    "data['jaccard_similarity'] = [\n",
    "    1 - jaccard(vectors[i].toarray().flatten(), vectors[i + len(data)].toarray().flatten())\n",
    "    for i in range(len(data))\n",
    "]"
   ],
   "outputs": [],
   "execution_count": 225
  },
  {
   "cell_type": "code",
   "id": "fd9ad786de172ab0",
   "metadata": {
    "id": "fd9ad786de172ab0",
    "ExecuteTime": {
     "end_time": "2024-05-17T20:32:57.408421Z",
     "start_time": "2024-05-17T20:32:57.364294Z"
    }
   },
   "source": [
    "tn = len(data[(data['jaccard_similarity'] < 0.35) & (data['is_duplicate'] == 0)])\n",
    "tp = len(data[(data['jaccard_similarity'] >= 0.35) & (data['is_duplicate'] == 1)])"
   ],
   "outputs": [],
   "execution_count": 226
  },
  {
   "cell_type": "code",
   "id": "ddf8a75469ad10fb",
   "metadata": {
    "id": "ddf8a75469ad10fb",
    "outputId": "f919e2e2-2f36-4909-e5c0-d747e8d59528",
    "ExecuteTime": {
     "end_time": "2024-05-17T20:32:57.656032Z",
     "start_time": "2024-05-17T20:32:57.411471Z"
    }
   },
   "source": [
    "print_metrics(tn,tp)"
   ],
   "outputs": [
    {
     "name": "stdout",
     "output_type": "stream",
     "text": [
      "Precision: 0.5385\n",
      "Recall: 0.6326\n",
      "Accuracy: 0.6641\n"
     ]
    }
   ],
   "execution_count": 227
  },
  {
   "cell_type": "code",
   "id": "24167f3256835618",
   "metadata": {
    "id": "24167f3256835618",
    "outputId": "5e071894-a834-4c7e-ebc2-009639d6845e",
    "ExecuteTime": {
     "end_time": "2024-05-17T20:32:57.701904Z",
     "start_time": "2024-05-17T20:32:57.658662Z"
    }
   },
   "source": [
    "data.head(30)"
   ],
   "outputs": [
    {
     "data": {
      "text/plain": [
       "    id  qid1  qid2                                          question1  \\\n",
       "0    0     1     2  What is the step by step guide to invest in sh...   \n",
       "1    1     3     4  What is the story of Kohinoor (Koh-i-Noor) Dia...   \n",
       "2    2     5     6  How can I increase the speed of my internet co...   \n",
       "3    3     7     8  Why am I mentally very lonely? How can I solve...   \n",
       "4    4     9    10  Which one dissolve in water quikly sugar, salt...   \n",
       "5    5    11    12  Astrology: I am a Capricorn Sun Cap moon and c...   \n",
       "6    6    13    14                                Should I buy tiago?   \n",
       "7    7    15    16                     How can I be a good geologist?   \n",
       "8    8    17    18                    When do you use シ instead of し?   \n",
       "9    9    19    20  Motorola (company): Can I hack my Charter Moto...   \n",
       "10  10    21    22  Method to find separation of slits using fresn...   \n",
       "11  11    23    24        How do I read and find my YouTube comments?   \n",
       "12  12    25    26               What can make Physics easy to learn?   \n",
       "13  13    27    28        What was your first sexual experience like?   \n",
       "14  14    29    30  What are the laws to change your status from a...   \n",
       "15  15    31    32  What would a Trump presidency mean for current...   \n",
       "16  16    33    34                       What does manipulation mean?   \n",
       "17  17    35    36  Why do girls want to be friends with the guy t...   \n",
       "18  18    37    38  Why are so many Quora users posting questions ...   \n",
       "19  19    39    40  Which is the best digital marketing institutio...   \n",
       "20  20    41    42                         Why do rockets look white?   \n",
       "21  21    43    44              What's causing someone to be jealous?   \n",
       "22  22    45    46    What are the questions should not ask on Quora?   \n",
       "23  23    47    48                           How much is 30 kV in HP?   \n",
       "24  24    49    50  What does it mean that every time I look at th...   \n",
       "25  25    51    52  What are some tips on making it through the jo...   \n",
       "26  26    53    54                           What is web application?   \n",
       "27  27    55    56  Does society place too much importance on sports?   \n",
       "28  28    57    58             What is best way to make money online?   \n",
       "29  29    59    60             How should I prepare for CA final law?   \n",
       "\n",
       "                                            question2  is_duplicate  \\\n",
       "0   What is the step by step guide to invest in sh...             0   \n",
       "1   What would happen if the Indian government sto...             0   \n",
       "2   How can Internet speed be increased by hacking...             0   \n",
       "3   Find the remainder when [math]23^{24}[/math] i...             0   \n",
       "4             Which fish would survive in salt water?             0   \n",
       "5   I'm a triple Capricorn (Sun, Moon and ascendan...             1   \n",
       "6   What keeps childern active and far from phone ...             0   \n",
       "7           What should I do to be a great geologist?             1   \n",
       "8               When do you use \"&\" instead of \"and\"?             0   \n",
       "9   How do I hack Motorola DCX3400 for free internet?             0   \n",
       "10  What are some of the things technicians can te...             0   \n",
       "11             How can I see all my Youtube comments?             1   \n",
       "12            How can you make physics easy to learn?             1   \n",
       "13             What was your first sexual experience?             1   \n",
       "14  What are the laws to change your status from a...             0   \n",
       "15  How will a Trump presidency affect the student...             1   \n",
       "16                      What does manipulation means?             1   \n",
       "17           How do guys feel after rejecting a girl?             0   \n",
       "18  Why do people ask Quora questions which can be...             1   \n",
       "19  Which is the best digital marketing institute ...             0   \n",
       "20        Why are rockets and boosters painted white?             1   \n",
       "21   What can I do to avoid being jealous of someone?             0   \n",
       "22              Which question should I ask on Quora?             0   \n",
       "23  Where can I find a conversion chart for CC to ...             0   \n",
       "24   How many times a day do a clock’s hands overlap?             0   \n",
       "25  What are some tips on making it through the jo...             0   \n",
       "26             What is the web application framework?             0   \n",
       "27           How do sports contribute to the society?             0   \n",
       "28          What is best way to ask for money online?             0   \n",
       "29  How one should know that he/she completely pre...             1   \n",
       "\n",
       "    cosine_similarity  euclidean_distance  scaled_euclidean_distance  \\\n",
       "0            0.944911            1.414214                   0.050379   \n",
       "1            0.583333            3.316625                   0.118150   \n",
       "2            0.365148            3.741657                   0.133291   \n",
       "3            0.000000            5.291503                   0.188502   \n",
       "4            0.419314            3.464102                   0.123404   \n",
       "5            0.606339            3.605551                   0.128442   \n",
       "6            0.000000            4.000000                   0.142494   \n",
       "7            0.338062            2.828427                   0.100759   \n",
       "8            0.925820            1.000000                   0.035624   \n",
       "9            0.375000            3.162278                   0.112651   \n",
       "10           0.133333            5.477226                   0.195118   \n",
       "11           0.534522            2.645751                   0.094251   \n",
       "12           0.801784            1.732051                   0.061702   \n",
       "13           0.925820            1.000000                   0.035624   \n",
       "14           0.976744            1.414214                   0.050379   \n",
       "15           0.179284            5.291503                   0.188502   \n",
       "16           0.750000            1.414214                   0.050379   \n",
       "17           0.109109            4.123106                   0.146880   \n",
       "18           0.346688            4.358899                   0.155279   \n",
       "19           0.777778            2.000000                   0.071247   \n",
       "20           0.507093            2.449490                   0.087259   \n",
       "21           0.544331            2.645751                   0.094251   \n",
       "22           0.544331            2.645751                   0.094251   \n",
       "23           0.000000            4.000000                   0.142494   \n",
       "24           0.075378            5.291503                   0.188502   \n",
       "25           0.897085            1.732051                   0.061702   \n",
       "26           0.816497            1.414214                   0.050379   \n",
       "27           0.267261            3.316625                   0.118150   \n",
       "28           0.824958            1.732051                   0.061702   \n",
       "29           0.628971            2.828427                   0.100759   \n",
       "\n",
       "    jaccard_similarity  \n",
       "0             0.833333  \n",
       "1             0.312500  \n",
       "2             0.222222  \n",
       "3             0.000000  \n",
       "4             0.250000  \n",
       "5             0.444444  \n",
       "6             0.000000  \n",
       "7             0.200000  \n",
       "8             0.857143  \n",
       "9             0.230769  \n",
       "10            0.000000  \n",
       "11            0.363636  \n",
       "12            0.666667  \n",
       "13            0.857143  \n",
       "14            0.909091  \n",
       "15            0.120000  \n",
       "16            0.600000  \n",
       "17            0.055556  \n",
       "18            0.238095  \n",
       "19            0.636364  \n",
       "20            0.333333  \n",
       "21            0.363636  \n",
       "22            0.363636  \n",
       "23            0.000000  \n",
       "24            0.047619  \n",
       "25            0.812500  \n",
       "26            0.666667  \n",
       "27            0.153846  \n",
       "28            0.700000  \n",
       "29            0.428571  "
      ],
      "text/html": [
       "<div>\n",
       "<style scoped>\n",
       "    .dataframe tbody tr th:only-of-type {\n",
       "        vertical-align: middle;\n",
       "    }\n",
       "\n",
       "    .dataframe tbody tr th {\n",
       "        vertical-align: top;\n",
       "    }\n",
       "\n",
       "    .dataframe thead th {\n",
       "        text-align: right;\n",
       "    }\n",
       "</style>\n",
       "<table border=\"1\" class=\"dataframe\">\n",
       "  <thead>\n",
       "    <tr style=\"text-align: right;\">\n",
       "      <th></th>\n",
       "      <th>id</th>\n",
       "      <th>qid1</th>\n",
       "      <th>qid2</th>\n",
       "      <th>question1</th>\n",
       "      <th>question2</th>\n",
       "      <th>is_duplicate</th>\n",
       "      <th>cosine_similarity</th>\n",
       "      <th>euclidean_distance</th>\n",
       "      <th>scaled_euclidean_distance</th>\n",
       "      <th>jaccard_similarity</th>\n",
       "    </tr>\n",
       "  </thead>\n",
       "  <tbody>\n",
       "    <tr>\n",
       "      <th>0</th>\n",
       "      <td>0</td>\n",
       "      <td>1</td>\n",
       "      <td>2</td>\n",
       "      <td>What is the step by step guide to invest in sh...</td>\n",
       "      <td>What is the step by step guide to invest in sh...</td>\n",
       "      <td>0</td>\n",
       "      <td>0.944911</td>\n",
       "      <td>1.414214</td>\n",
       "      <td>0.050379</td>\n",
       "      <td>0.833333</td>\n",
       "    </tr>\n",
       "    <tr>\n",
       "      <th>1</th>\n",
       "      <td>1</td>\n",
       "      <td>3</td>\n",
       "      <td>4</td>\n",
       "      <td>What is the story of Kohinoor (Koh-i-Noor) Dia...</td>\n",
       "      <td>What would happen if the Indian government sto...</td>\n",
       "      <td>0</td>\n",
       "      <td>0.583333</td>\n",
       "      <td>3.316625</td>\n",
       "      <td>0.118150</td>\n",
       "      <td>0.312500</td>\n",
       "    </tr>\n",
       "    <tr>\n",
       "      <th>2</th>\n",
       "      <td>2</td>\n",
       "      <td>5</td>\n",
       "      <td>6</td>\n",
       "      <td>How can I increase the speed of my internet co...</td>\n",
       "      <td>How can Internet speed be increased by hacking...</td>\n",
       "      <td>0</td>\n",
       "      <td>0.365148</td>\n",
       "      <td>3.741657</td>\n",
       "      <td>0.133291</td>\n",
       "      <td>0.222222</td>\n",
       "    </tr>\n",
       "    <tr>\n",
       "      <th>3</th>\n",
       "      <td>3</td>\n",
       "      <td>7</td>\n",
       "      <td>8</td>\n",
       "      <td>Why am I mentally very lonely? How can I solve...</td>\n",
       "      <td>Find the remainder when [math]23^{24}[/math] i...</td>\n",
       "      <td>0</td>\n",
       "      <td>0.000000</td>\n",
       "      <td>5.291503</td>\n",
       "      <td>0.188502</td>\n",
       "      <td>0.000000</td>\n",
       "    </tr>\n",
       "    <tr>\n",
       "      <th>4</th>\n",
       "      <td>4</td>\n",
       "      <td>9</td>\n",
       "      <td>10</td>\n",
       "      <td>Which one dissolve in water quikly sugar, salt...</td>\n",
       "      <td>Which fish would survive in salt water?</td>\n",
       "      <td>0</td>\n",
       "      <td>0.419314</td>\n",
       "      <td>3.464102</td>\n",
       "      <td>0.123404</td>\n",
       "      <td>0.250000</td>\n",
       "    </tr>\n",
       "    <tr>\n",
       "      <th>5</th>\n",
       "      <td>5</td>\n",
       "      <td>11</td>\n",
       "      <td>12</td>\n",
       "      <td>Astrology: I am a Capricorn Sun Cap moon and c...</td>\n",
       "      <td>I'm a triple Capricorn (Sun, Moon and ascendan...</td>\n",
       "      <td>1</td>\n",
       "      <td>0.606339</td>\n",
       "      <td>3.605551</td>\n",
       "      <td>0.128442</td>\n",
       "      <td>0.444444</td>\n",
       "    </tr>\n",
       "    <tr>\n",
       "      <th>6</th>\n",
       "      <td>6</td>\n",
       "      <td>13</td>\n",
       "      <td>14</td>\n",
       "      <td>Should I buy tiago?</td>\n",
       "      <td>What keeps childern active and far from phone ...</td>\n",
       "      <td>0</td>\n",
       "      <td>0.000000</td>\n",
       "      <td>4.000000</td>\n",
       "      <td>0.142494</td>\n",
       "      <td>0.000000</td>\n",
       "    </tr>\n",
       "    <tr>\n",
       "      <th>7</th>\n",
       "      <td>7</td>\n",
       "      <td>15</td>\n",
       "      <td>16</td>\n",
       "      <td>How can I be a good geologist?</td>\n",
       "      <td>What should I do to be a great geologist?</td>\n",
       "      <td>1</td>\n",
       "      <td>0.338062</td>\n",
       "      <td>2.828427</td>\n",
       "      <td>0.100759</td>\n",
       "      <td>0.200000</td>\n",
       "    </tr>\n",
       "    <tr>\n",
       "      <th>8</th>\n",
       "      <td>8</td>\n",
       "      <td>17</td>\n",
       "      <td>18</td>\n",
       "      <td>When do you use シ instead of し?</td>\n",
       "      <td>When do you use \"&amp;\" instead of \"and\"?</td>\n",
       "      <td>0</td>\n",
       "      <td>0.925820</td>\n",
       "      <td>1.000000</td>\n",
       "      <td>0.035624</td>\n",
       "      <td>0.857143</td>\n",
       "    </tr>\n",
       "    <tr>\n",
       "      <th>9</th>\n",
       "      <td>9</td>\n",
       "      <td>19</td>\n",
       "      <td>20</td>\n",
       "      <td>Motorola (company): Can I hack my Charter Moto...</td>\n",
       "      <td>How do I hack Motorola DCX3400 for free internet?</td>\n",
       "      <td>0</td>\n",
       "      <td>0.375000</td>\n",
       "      <td>3.162278</td>\n",
       "      <td>0.112651</td>\n",
       "      <td>0.230769</td>\n",
       "    </tr>\n",
       "    <tr>\n",
       "      <th>10</th>\n",
       "      <td>10</td>\n",
       "      <td>21</td>\n",
       "      <td>22</td>\n",
       "      <td>Method to find separation of slits using fresn...</td>\n",
       "      <td>What are some of the things technicians can te...</td>\n",
       "      <td>0</td>\n",
       "      <td>0.133333</td>\n",
       "      <td>5.477226</td>\n",
       "      <td>0.195118</td>\n",
       "      <td>0.000000</td>\n",
       "    </tr>\n",
       "    <tr>\n",
       "      <th>11</th>\n",
       "      <td>11</td>\n",
       "      <td>23</td>\n",
       "      <td>24</td>\n",
       "      <td>How do I read and find my YouTube comments?</td>\n",
       "      <td>How can I see all my Youtube comments?</td>\n",
       "      <td>1</td>\n",
       "      <td>0.534522</td>\n",
       "      <td>2.645751</td>\n",
       "      <td>0.094251</td>\n",
       "      <td>0.363636</td>\n",
       "    </tr>\n",
       "    <tr>\n",
       "      <th>12</th>\n",
       "      <td>12</td>\n",
       "      <td>25</td>\n",
       "      <td>26</td>\n",
       "      <td>What can make Physics easy to learn?</td>\n",
       "      <td>How can you make physics easy to learn?</td>\n",
       "      <td>1</td>\n",
       "      <td>0.801784</td>\n",
       "      <td>1.732051</td>\n",
       "      <td>0.061702</td>\n",
       "      <td>0.666667</td>\n",
       "    </tr>\n",
       "    <tr>\n",
       "      <th>13</th>\n",
       "      <td>13</td>\n",
       "      <td>27</td>\n",
       "      <td>28</td>\n",
       "      <td>What was your first sexual experience like?</td>\n",
       "      <td>What was your first sexual experience?</td>\n",
       "      <td>1</td>\n",
       "      <td>0.925820</td>\n",
       "      <td>1.000000</td>\n",
       "      <td>0.035624</td>\n",
       "      <td>0.857143</td>\n",
       "    </tr>\n",
       "    <tr>\n",
       "      <th>14</th>\n",
       "      <td>14</td>\n",
       "      <td>29</td>\n",
       "      <td>30</td>\n",
       "      <td>What are the laws to change your status from a...</td>\n",
       "      <td>What are the laws to change your status from a...</td>\n",
       "      <td>0</td>\n",
       "      <td>0.976744</td>\n",
       "      <td>1.414214</td>\n",
       "      <td>0.050379</td>\n",
       "      <td>0.909091</td>\n",
       "    </tr>\n",
       "    <tr>\n",
       "      <th>15</th>\n",
       "      <td>15</td>\n",
       "      <td>31</td>\n",
       "      <td>32</td>\n",
       "      <td>What would a Trump presidency mean for current...</td>\n",
       "      <td>How will a Trump presidency affect the student...</td>\n",
       "      <td>1</td>\n",
       "      <td>0.179284</td>\n",
       "      <td>5.291503</td>\n",
       "      <td>0.188502</td>\n",
       "      <td>0.120000</td>\n",
       "    </tr>\n",
       "    <tr>\n",
       "      <th>16</th>\n",
       "      <td>16</td>\n",
       "      <td>33</td>\n",
       "      <td>34</td>\n",
       "      <td>What does manipulation mean?</td>\n",
       "      <td>What does manipulation means?</td>\n",
       "      <td>1</td>\n",
       "      <td>0.750000</td>\n",
       "      <td>1.414214</td>\n",
       "      <td>0.050379</td>\n",
       "      <td>0.600000</td>\n",
       "    </tr>\n",
       "    <tr>\n",
       "      <th>17</th>\n",
       "      <td>17</td>\n",
       "      <td>35</td>\n",
       "      <td>36</td>\n",
       "      <td>Why do girls want to be friends with the guy t...</td>\n",
       "      <td>How do guys feel after rejecting a girl?</td>\n",
       "      <td>0</td>\n",
       "      <td>0.109109</td>\n",
       "      <td>4.123106</td>\n",
       "      <td>0.146880</td>\n",
       "      <td>0.055556</td>\n",
       "    </tr>\n",
       "    <tr>\n",
       "      <th>18</th>\n",
       "      <td>18</td>\n",
       "      <td>37</td>\n",
       "      <td>38</td>\n",
       "      <td>Why are so many Quora users posting questions ...</td>\n",
       "      <td>Why do people ask Quora questions which can be...</td>\n",
       "      <td>1</td>\n",
       "      <td>0.346688</td>\n",
       "      <td>4.358899</td>\n",
       "      <td>0.155279</td>\n",
       "      <td>0.238095</td>\n",
       "    </tr>\n",
       "    <tr>\n",
       "      <th>19</th>\n",
       "      <td>19</td>\n",
       "      <td>39</td>\n",
       "      <td>40</td>\n",
       "      <td>Which is the best digital marketing institutio...</td>\n",
       "      <td>Which is the best digital marketing institute ...</td>\n",
       "      <td>0</td>\n",
       "      <td>0.777778</td>\n",
       "      <td>2.000000</td>\n",
       "      <td>0.071247</td>\n",
       "      <td>0.636364</td>\n",
       "    </tr>\n",
       "    <tr>\n",
       "      <th>20</th>\n",
       "      <td>20</td>\n",
       "      <td>41</td>\n",
       "      <td>42</td>\n",
       "      <td>Why do rockets look white?</td>\n",
       "      <td>Why are rockets and boosters painted white?</td>\n",
       "      <td>1</td>\n",
       "      <td>0.507093</td>\n",
       "      <td>2.449490</td>\n",
       "      <td>0.087259</td>\n",
       "      <td>0.333333</td>\n",
       "    </tr>\n",
       "    <tr>\n",
       "      <th>21</th>\n",
       "      <td>21</td>\n",
       "      <td>43</td>\n",
       "      <td>44</td>\n",
       "      <td>What's causing someone to be jealous?</td>\n",
       "      <td>What can I do to avoid being jealous of someone?</td>\n",
       "      <td>0</td>\n",
       "      <td>0.544331</td>\n",
       "      <td>2.645751</td>\n",
       "      <td>0.094251</td>\n",
       "      <td>0.363636</td>\n",
       "    </tr>\n",
       "    <tr>\n",
       "      <th>22</th>\n",
       "      <td>22</td>\n",
       "      <td>45</td>\n",
       "      <td>46</td>\n",
       "      <td>What are the questions should not ask on Quora?</td>\n",
       "      <td>Which question should I ask on Quora?</td>\n",
       "      <td>0</td>\n",
       "      <td>0.544331</td>\n",
       "      <td>2.645751</td>\n",
       "      <td>0.094251</td>\n",
       "      <td>0.363636</td>\n",
       "    </tr>\n",
       "    <tr>\n",
       "      <th>23</th>\n",
       "      <td>23</td>\n",
       "      <td>47</td>\n",
       "      <td>48</td>\n",
       "      <td>How much is 30 kV in HP?</td>\n",
       "      <td>Where can I find a conversion chart for CC to ...</td>\n",
       "      <td>0</td>\n",
       "      <td>0.000000</td>\n",
       "      <td>4.000000</td>\n",
       "      <td>0.142494</td>\n",
       "      <td>0.000000</td>\n",
       "    </tr>\n",
       "    <tr>\n",
       "      <th>24</th>\n",
       "      <td>24</td>\n",
       "      <td>49</td>\n",
       "      <td>50</td>\n",
       "      <td>What does it mean that every time I look at th...</td>\n",
       "      <td>How many times a day do a clock’s hands overlap?</td>\n",
       "      <td>0</td>\n",
       "      <td>0.075378</td>\n",
       "      <td>5.291503</td>\n",
       "      <td>0.188502</td>\n",
       "      <td>0.047619</td>\n",
       "    </tr>\n",
       "    <tr>\n",
       "      <th>25</th>\n",
       "      <td>25</td>\n",
       "      <td>51</td>\n",
       "      <td>52</td>\n",
       "      <td>What are some tips on making it through the jo...</td>\n",
       "      <td>What are some tips on making it through the jo...</td>\n",
       "      <td>0</td>\n",
       "      <td>0.897085</td>\n",
       "      <td>1.732051</td>\n",
       "      <td>0.061702</td>\n",
       "      <td>0.812500</td>\n",
       "    </tr>\n",
       "    <tr>\n",
       "      <th>26</th>\n",
       "      <td>26</td>\n",
       "      <td>53</td>\n",
       "      <td>54</td>\n",
       "      <td>What is web application?</td>\n",
       "      <td>What is the web application framework?</td>\n",
       "      <td>0</td>\n",
       "      <td>0.816497</td>\n",
       "      <td>1.414214</td>\n",
       "      <td>0.050379</td>\n",
       "      <td>0.666667</td>\n",
       "    </tr>\n",
       "    <tr>\n",
       "      <th>27</th>\n",
       "      <td>27</td>\n",
       "      <td>55</td>\n",
       "      <td>56</td>\n",
       "      <td>Does society place too much importance on sports?</td>\n",
       "      <td>How do sports contribute to the society?</td>\n",
       "      <td>0</td>\n",
       "      <td>0.267261</td>\n",
       "      <td>3.316625</td>\n",
       "      <td>0.118150</td>\n",
       "      <td>0.153846</td>\n",
       "    </tr>\n",
       "    <tr>\n",
       "      <th>28</th>\n",
       "      <td>28</td>\n",
       "      <td>57</td>\n",
       "      <td>58</td>\n",
       "      <td>What is best way to make money online?</td>\n",
       "      <td>What is best way to ask for money online?</td>\n",
       "      <td>0</td>\n",
       "      <td>0.824958</td>\n",
       "      <td>1.732051</td>\n",
       "      <td>0.061702</td>\n",
       "      <td>0.700000</td>\n",
       "    </tr>\n",
       "    <tr>\n",
       "      <th>29</th>\n",
       "      <td>29</td>\n",
       "      <td>59</td>\n",
       "      <td>60</td>\n",
       "      <td>How should I prepare for CA final law?</td>\n",
       "      <td>How one should know that he/she completely pre...</td>\n",
       "      <td>1</td>\n",
       "      <td>0.628971</td>\n",
       "      <td>2.828427</td>\n",
       "      <td>0.100759</td>\n",
       "      <td>0.428571</td>\n",
       "    </tr>\n",
       "  </tbody>\n",
       "</table>\n",
       "</div>"
      ]
     },
     "execution_count": 228,
     "metadata": {},
     "output_type": "execute_result"
    }
   ],
   "execution_count": 228
  },
  {
   "cell_type": "markdown",
   "id": "5a33354e3c7bdcb3",
   "metadata": {
    "id": "5a33354e3c7bdcb3"
   },
   "source": [
    "## WITH TFIDF VECTORIZER"
   ]
  },
  {
   "metadata": {},
   "cell_type": "markdown",
   "source": "- TF-IDF (Term Frequency-Inverse Document Frequency) Vectorizer is another widely used technique in NLP for converting text data into numerical vectors. Unlike CountVectorizer, TF-IDF takes into account not only the frequency of words in a document but also the importance of those words in the entire corpus. It assigns a higher weight to words that are frequent in a document but rare in other documents, thereby capturing their discriminative power. TF-IDF Vectorizer is particularly useful for tasks where distinguishing between important and common words is crucial, such as information retrieval, search engines, and document clustering.",
   "id": "ddebe7df6739c7fb"
  },
  {
   "metadata": {},
   "cell_type": "code",
   "outputs": [],
   "execution_count": 229,
   "source": [
    "tfidf_vectorizer = TfidfVectorizer()\n",
    "tfidf_matrix = tfidf_vectorizer.fit_transform(df['question1'].tolist() + df['question2'].tolist())"
   ],
   "id": "7e212bd98f6a1fff"
  },
  {
   "cell_type": "code",
   "id": "f27794d29b9d118f",
   "metadata": {
    "id": "f27794d29b9d118f",
    "ExecuteTime": {
     "end_time": "2024-05-17T20:33:06.514950Z",
     "start_time": "2024-05-17T20:33:06.485821Z"
    }
   },
   "source": [
    "data2 = df.copy()"
   ],
   "outputs": [],
   "execution_count": 230
  },
  {
   "cell_type": "markdown",
   "id": "2d6fcfd5d67ec74b",
   "metadata": {},
   "source": [
    "Cosine Similarity:\n",
    "- Thresholds tested: 0.50, 0.55, 0.60, 0.70, 0.75\n",
    "- Highest precision: 0.75 (0.5546) at a threshold of 0.75"
   ]
  },
  {
   "cell_type": "code",
   "id": "71c169b4c4019933",
   "metadata": {
    "id": "71c169b4c4019933",
    "ExecuteTime": {
     "end_time": "2024-05-17T20:37:58.634007Z",
     "start_time": "2024-05-17T20:33:06.517865Z"
    }
   },
   "source": [
    "data2['cosine_similarity'] = [\n",
    "    cosine_similarity(tfidf_matrix[i], tfidf_matrix[i + len(data2)])[0, 0]\n",
    "    for i in range(len(data2))\n",
    "]"
   ],
   "outputs": [],
   "execution_count": 231
  },
  {
   "cell_type": "code",
   "id": "1c12be369f72942a",
   "metadata": {
    "id": "1c12be369f72942a",
    "ExecuteTime": {
     "end_time": "2024-05-17T20:37:58.680916Z",
     "start_time": "2024-05-17T20:37:58.636917Z"
    }
   },
   "source": [
    "tn = len(data2[(data2['cosine_similarity'] < 0.75) & (data2['is_duplicate'] == 0)])\n",
    "tp = len(data2[(data2['cosine_similarity'] >= 0.75) & (data2['is_duplicate'] == 1)])"
   ],
   "outputs": [],
   "execution_count": 232
  },
  {
   "cell_type": "code",
   "id": "6abe13edd0f08e42",
   "metadata": {
    "id": "6abe13edd0f08e42",
    "outputId": "9f35e978-2803-4795-e6dc-71203c888f15",
    "ExecuteTime": {
     "end_time": "2024-05-17T20:37:58.919917Z",
     "start_time": "2024-05-17T20:37:58.682916Z"
    }
   },
   "source": [
    "print_metrics(tn,tp)"
   ],
   "outputs": [
    {
     "name": "stdout",
     "output_type": "stream",
     "text": [
      "Precision: 0.5546\n",
      "Recall: 0.3153\n",
      "Accuracy: 0.6537\n"
     ]
    }
   ],
   "execution_count": 233
  },
  {
   "cell_type": "markdown",
   "id": "5ece81bfc3c76f78",
   "metadata": {},
   "source": [
    "Euclidean Distance:\n",
    "- Thresholds tested: 0.30, 0.45, 0.50\n",
    "- Highest precision: 0.45 (0.3305) at a threshold of 0.45"
   ]
  },
  {
   "cell_type": "code",
   "id": "52c2a8c87554479f",
   "metadata": {
    "id": "52c2a8c87554479f",
    "ExecuteTime": {
     "end_time": "2024-05-17T20:41:26.317895Z",
     "start_time": "2024-05-17T20:37:58.922916Z"
    }
   },
   "source": [
    "data2['euclidean_distance'] = [\n",
    "    euclidean(tfidf_matrix[i].toarray().flatten(), tfidf_matrix[i + len(data2)].toarray().flatten())\n",
    "    for i in range(len(data2))\n",
    "]"
   ],
   "outputs": [],
   "execution_count": 234
  },
  {
   "cell_type": "code",
   "id": "87d378f818dd816a",
   "metadata": {
    "id": "87d378f818dd816a",
    "ExecuteTime": {
     "end_time": "2024-05-17T20:41:26.333813Z",
     "start_time": "2024-05-17T20:41:26.319862Z"
    }
   },
   "source": [
    "scaler2 = MinMaxScaler()\n",
    "data2['scaled_euclidean_distance'] = scaler2.fit_transform(data2[['euclidean_distance']])"
   ],
   "outputs": [],
   "execution_count": 235
  },
  {
   "cell_type": "code",
   "id": "6399b4b37d18f811",
   "metadata": {
    "id": "6399b4b37d18f811",
    "ExecuteTime": {
     "end_time": "2024-05-17T20:41:26.381799Z",
     "start_time": "2024-05-17T20:41:26.335801Z"
    }
   },
   "source": [
    "tn = len(data2[(data2['scaled_euclidean_distance'] < 0.45) & (data2['is_duplicate'] == 0)])\n",
    "tp = len(data2[(data2['scaled_euclidean_distance'] >= 0.45) & (data2['is_duplicate'] == 1)])"
   ],
   "outputs": [],
   "execution_count": 236
  },
  {
   "cell_type": "code",
   "id": "539fa760adbedda6",
   "metadata": {
    "id": "539fa760adbedda6",
    "outputId": "32531240-5d9b-41a3-f481-3bc3cbed136a",
    "ExecuteTime": {
     "end_time": "2024-05-17T20:41:26.618891Z",
     "start_time": "2024-05-17T20:41:26.382799Z"
    }
   },
   "source": [
    "print_metrics(tn,tp)"
   ],
   "outputs": [
    {
     "name": "stdout",
     "output_type": "stream",
     "text": [
      "Precision: 0.3305\n",
      "Recall: 0.7525\n",
      "Accuracy: 0.3457\n"
     ]
    }
   ],
   "execution_count": 237
  },
  {
   "cell_type": "markdown",
   "id": "a86bce0adb88f4ab",
   "metadata": {},
   "source": [
    "Jaccard Similarity:\n",
    "- Thresholds tested: 0.30, 0.40, 0.50\n",
    "- Highest precision: 0.40 (0.5384) at a threshold of 0.40\n",
    "- Word2Vec (Imported from Gensim)"
   ]
  },
  {
   "cell_type": "code",
   "id": "9d8d5317be235812",
   "metadata": {
    "id": "9d8d5317be235812",
    "ExecuteTime": {
     "end_time": "2024-05-17T20:44:14.263391Z",
     "start_time": "2024-05-17T20:41:26.620852Z"
    }
   },
   "source": [
    "binarizer = Binarizer(threshold=0.0)\n",
    "binary_matrix = binarizer.fit_transform(tfidf_matrix)\n",
    "jaccard_similarities = []\n",
    "for i in range(len(data2)):\n",
    "    q1_vector = binary_matrix[i]\n",
    "    q2_vector = binary_matrix[i + len(data2)]\n",
    "\n",
    "    jaccard_sim = 1 - jaccard(q1_vector.toarray().flatten(), q2_vector.toarray().flatten())\n",
    "    jaccard_similarities.append(jaccard_sim)\n",
    "\n",
    "data2['jaccard_similarity'] = jaccard_similarities"
   ],
   "outputs": [],
   "execution_count": 238
  },
  {
   "cell_type": "code",
   "id": "636afa0475bdc88d",
   "metadata": {
    "id": "636afa0475bdc88d",
    "ExecuteTime": {
     "end_time": "2024-05-17T20:44:14.310603Z",
     "start_time": "2024-05-17T20:44:14.265363Z"
    }
   },
   "source": [
    "tn = len(data2[(data2['jaccard_similarity'] < 0.4) & (data2['is_duplicate'] == 0)])\n",
    "tp = len(data2[(data2['jaccard_similarity'] >= 0.4) & (data2['is_duplicate'] == 1)])"
   ],
   "outputs": [],
   "execution_count": 239
  },
  {
   "cell_type": "code",
   "id": "eb06913579b405dd",
   "metadata": {
    "id": "eb06913579b405dd",
    "outputId": "d1de3163-c966-46ae-8ad1-4a0d94d8b7df",
    "ExecuteTime": {
     "end_time": "2024-05-17T20:44:14.516525Z",
     "start_time": "2024-05-17T20:44:14.312515Z"
    }
   },
   "source": [
    "print_metrics(tn,tp)"
   ],
   "outputs": [
    {
     "name": "stdout",
     "output_type": "stream",
     "text": [
      "Precision: 0.5384\n",
      "Recall: 0.5885\n",
      "Accuracy: 0.6617\n"
     ]
    }
   ],
   "execution_count": 240
  },
  {
   "cell_type": "markdown",
   "id": "1fd421eaf175c1a0",
   "metadata": {
    "id": "1fd421eaf175c1a0"
   },
   "source": [
    "## WITH Word2Vec"
   ]
  },
  {
   "metadata": {},
   "cell_type": "markdown",
   "source": "- Word2Vec is a popular word embedding technique in NLP for representing words in a continuous vector space. It learns to map words to dense vectors in such a way that semantically similar words are located close to each other in the vector space. Word2Vec models are trained using large text corpora and come in two main architectures: Continuous Bag of Words (CBOW) and Skip-gram. These models can capture semantic relationships between words, enabling them to capture nuances and similarities in meaning. Word2Vec embeddings are widely used in various NLP tasks, including language modeling, sentiment analysis, and named entity recognition.",
   "id": "77f95816ae809f02"
  },
  {
   "metadata": {},
   "cell_type": "code",
   "outputs": [],
   "execution_count": 241,
   "source": "data3 = df.copy()",
   "id": "7e5bdd796614b509"
  },
  {
   "cell_type": "code",
   "id": "98c790b97c972bc6",
   "metadata": {
    "id": "98c790b97c972bc6",
    "ExecuteTime": {
     "end_time": "2024-05-17T20:44:41.323027Z",
     "start_time": "2024-05-17T20:44:14.550515Z"
    }
   },
   "source": [
    "data3['question1'] = data3['question1'].apply(simple_preprocess)\n",
    "data3['question2'] = data3['question2'].apply(simple_preprocess)"
   ],
   "outputs": [],
   "execution_count": 242
  },
  {
   "cell_type": "code",
   "id": "62d9fd1d91574fa9",
   "metadata": {
    "id": "62d9fd1d91574fa9",
    "ExecuteTime": {
     "end_time": "2024-05-17T20:45:04.959333Z",
     "start_time": "2024-05-17T20:44:41.344015Z"
    }
   },
   "source": [
    "sentences = data3['question1'].tolist() + data3['question2'].tolist()\n",
    "model = Word2Vec(sentences, vector_size=100, window=5, min_count=1, workers=4)"
   ],
   "outputs": [],
   "execution_count": 243
  },
  {
   "cell_type": "code",
   "id": "c473774569af5b30",
   "metadata": {
    "id": "c473774569af5b30",
    "ExecuteTime": {
     "end_time": "2024-05-17T20:45:31.942077Z",
     "start_time": "2024-05-17T20:45:04.961333Z"
    }
   },
   "source": [
    "def get_mean_vector(model, words):\n",
    "    filtered_words = [word for word in words if word in model.wv.key_to_index]\n",
    "    if filtered_words:\n",
    "        return model.wv[filtered_words].mean(axis=0)\n",
    "    else:\n",
    "        return np.zeros(model.vector_size)\n",
    "\n",
    "data3['q1_vector'] = data3['question1'].apply(lambda x: get_mean_vector(model, x))\n",
    "data3['q2_vector'] = data3['question2'].apply(lambda x: get_mean_vector(model, x))"
   ],
   "outputs": [],
   "execution_count": 244
  },
  {
   "cell_type": "markdown",
   "id": "734b7458f12139bf",
   "metadata": {},
   "source": [
    "Cosine Similarity:\n",
    "- Threshold tested: 0.50\n",
    "- Precision: 0.4256"
   ]
  },
  {
   "cell_type": "code",
   "id": "8cf708abd979434a",
   "metadata": {
    "id": "8cf708abd979434a",
    "ExecuteTime": {
     "end_time": "2024-05-17T20:47:36.878141Z",
     "start_time": "2024-05-17T20:45:31.945060Z"
    }
   },
   "source": [
    "data3['cosine_similarity'] = data3.apply(lambda row: cosine_similarity([row['q1_vector']], [row['q2_vector']])[0, 0], axis=1)"
   ],
   "outputs": [],
   "execution_count": 245
  },
  {
   "cell_type": "code",
   "id": "c343d7b3185fd813",
   "metadata": {
    "id": "c343d7b3185fd813",
    "ExecuteTime": {
     "end_time": "2024-05-17T20:47:36.940128Z",
     "start_time": "2024-05-17T20:47:36.881129Z"
    }
   },
   "source": [
    "tn = len(data3[(data3['cosine_similarity'] < 0.5) & (data3['is_duplicate'] == 0)])\n",
    "tp = len(data3[(data3['cosine_similarity'] >= 0.5) & (data3['is_duplicate'] == 1)])"
   ],
   "outputs": [],
   "execution_count": 246
  },
  {
   "cell_type": "code",
   "id": "612782274e8c87f9",
   "metadata": {
    "id": "612782274e8c87f9",
    "outputId": "37a3b7ce-5747-40dc-9232-95e64e2628f1",
    "ExecuteTime": {
     "end_time": "2024-05-17T20:47:37.162128Z",
     "start_time": "2024-05-17T20:47:36.942130Z"
    }
   },
   "source": [
    "print_metrics(tn,tp)"
   ],
   "outputs": [
    {
     "name": "stdout",
     "output_type": "stream",
     "text": [
      "Precision: 0.4250\n",
      "Recall: 0.9705\n",
      "Accuracy: 0.5043\n"
     ]
    }
   ],
   "execution_count": 247
  },
  {
   "cell_type": "markdown",
   "id": "84ca4fef69e22e15",
   "metadata": {},
   "source": [
    "Euclidean Distance:\n",
    "- Threshold: Median\n",
    "- Precision: 0.2750"
   ]
  },
  {
   "cell_type": "code",
   "id": "f6ae210caa04a0d3",
   "metadata": {
    "id": "f6ae210caa04a0d3",
    "ExecuteTime": {
     "end_time": "2024-05-17T20:47:42.509545Z",
     "start_time": "2024-05-17T20:47:37.164129Z"
    }
   },
   "source": [
    "data3['euclidean_distance'] = data3.apply(lambda row: euclidean(row['q1_vector'], row['q2_vector']), axis=1)"
   ],
   "outputs": [],
   "execution_count": 248
  },
  {
   "cell_type": "code",
   "id": "fc5bdb4b3a959be8",
   "metadata": {
    "id": "fc5bdb4b3a959be8",
    "ExecuteTime": {
     "end_time": "2024-05-17T20:47:42.589527Z",
     "start_time": "2024-05-17T20:47:42.512527Z"
    }
   },
   "source": [
    "tn = len(data3[(data3['euclidean_distance'] < data3['euclidean_distance'].median()) & (data3['is_duplicate'] == 0)])\n",
    "tp = len(data3[(data3['euclidean_distance'] >= data3['euclidean_distance'].median()) & (data3['is_duplicate'] == 1)])"
   ],
   "outputs": [],
   "execution_count": 249
  },
  {
   "cell_type": "code",
   "id": "2f741063ef6804d0",
   "metadata": {
    "id": "2f741063ef6804d0",
    "outputId": "cc042e39-15ec-4f52-96ff-3867f52422b7",
    "ExecuteTime": {
     "end_time": "2024-05-17T20:47:42.829526Z",
     "start_time": "2024-05-17T20:47:42.592528Z"
    }
   },
   "source": [
    "print_metrics(tn,tp)"
   ],
   "outputs": [
    {
     "name": "stdout",
     "output_type": "stream",
     "text": [
      "Precision: 0.2757\n",
      "Recall: 0.3734\n",
      "Accuracy: 0.4065\n"
     ]
    }
   ],
   "execution_count": 250
  },
  {
   "cell_type": "markdown",
   "id": "1171fc35dff07192",
   "metadata": {},
   "source": [
    "## With GoogleNews-vectors-negative300.bin\n",
    "- GoogleNews-vectors-negative300.bin is a pre-trained word embedding model created by Google, derived from a large text corpus. This model represents a vast vocabulary containing millions of different words and word clusters. Each word or word cluster is represented by a 300-dimensional vector, which contains features representing the meaning and relationships of the word. GoogleNews-vectors-negative300.bin is commonly used as a pre-trained word embedding model for tasks such as natural language processing and text classification. Such models leverage the knowledge learned from large amounts of training data to better understand and analyze the semantic structure of text data."
   ]
  },
  {
   "cell_type": "code",
   "id": "2da455087f1e8d48",
   "metadata": {
    "id": "2da455087f1e8d48",
    "ExecuteTime": {
     "end_time": "2024-05-17T20:47:43.428541Z",
     "start_time": "2024-05-17T20:47:42.833527Z"
    }
   },
   "source": [
    "data4 = df.copy()"
   ],
   "outputs": [],
   "execution_count": 251
  },
  {
   "cell_type": "code",
   "id": "ce448c1f4fcf77dc",
   "metadata": {
    "id": "ce448c1f4fcf77dc",
    "ExecuteTime": {
     "end_time": "2024-05-17T20:47:43.460526Z",
     "start_time": "2024-05-17T20:47:43.432528Z"
    }
   },
   "source": [
    "stopword_list = stopwords.words(\"english\")\n",
    "stopword_list.remove(\"no\")\n",
    "stopword_list.remove(\"nor\")\n",
    "stopword_list.remove(\"not\")\n",
    "\n",
    "def clean_text(data):\n",
    "    tokens = word_tokenize(data)\n",
    "    clean_data = [word.lower() for word in tokens if (word.lower() not in punctuation) and (word.lower() not in stopword_list) and ( len(word)>2) and (word.isalpha()) ]\n",
    "    return clean_data"
   ],
   "outputs": [],
   "execution_count": 252
  },
  {
   "cell_type": "code",
   "id": "16d4d3381e558e8b",
   "metadata": {
    "id": "16d4d3381e558e8b",
    "ExecuteTime": {
     "end_time": "2024-05-17T20:49:39.584958Z",
     "start_time": "2024-05-17T20:47:43.462527Z"
    }
   },
   "source": [
    "data4['question1'] = data4['question1'].apply(clean_text)\n",
    "data4['question2'] = data4['question2'].apply(clean_text)"
   ],
   "outputs": [],
   "execution_count": 253
  },
  {
   "cell_type": "code",
   "id": "f3871d84796cb397",
   "metadata": {
    "id": "f3871d84796cb397",
    "ExecuteTime": {
     "end_time": "2024-05-17T20:49:39.680953Z",
     "start_time": "2024-05-17T20:49:39.586866Z"
    }
   },
   "source": [
    "final_list_text1 = data4['question1'].to_list()"
   ],
   "outputs": [],
   "execution_count": 254
  },
  {
   "cell_type": "code",
   "id": "166e7501376b21fb",
   "metadata": {
    "id": "166e7501376b21fb",
    "ExecuteTime": {
     "end_time": "2024-05-17T20:49:39.774882Z",
     "start_time": "2024-05-17T20:49:39.682904Z"
    }
   },
   "source": [
    "final_list_text2 = data4['question2'].to_list()"
   ],
   "outputs": [],
   "execution_count": 255
  },
  {
   "cell_type": "code",
   "id": "97bc95bbc2ed2990",
   "metadata": {
    "id": "97bc95bbc2ed2990",
    "ExecuteTime": {
     "end_time": "2024-05-17T20:49:39.805962Z",
     "start_time": "2024-05-17T20:49:39.776868Z"
    }
   },
   "source": [
    "def vectorizer(list_of_docs,model):\n",
    "    feature =[] \n",
    "    for rew in list_of_docs: # iterating over reviews\n",
    "        zero_vector = np.zeros(model.vector_size) \n",
    "        vectors =[] \n",
    "        for word in rew : # iterating over all words in a review\n",
    "            if word in model:\n",
    "                try :\n",
    "                    vectors.append(model[word]) \n",
    "                except KeyError:\n",
    "                    continue\n",
    "        if vectors: \n",
    "            vectors = np.asarray(vectors) # converting multiple arrays into a single array\n",
    "            avg_vec = vectors.mean(axis=0) \n",
    "            feature.append(avg_vec) \n",
    "        else :\n",
    "            feature.append(zero_vector)\n",
    "    return feature"
   ],
   "outputs": [],
   "execution_count": 256
  },
  {
   "cell_type": "code",
   "id": "IvpvJfsXHbyx",
   "metadata": {
    "colab": {
     "base_uri": "https://localhost:8080/"
    },
    "id": "IvpvJfsXHbyx",
    "outputId": "e046a691-a136-4e11-8c57-75a4727f66e9",
    "ExecuteTime": {
     "end_time": "2024-05-17T20:50:35.266437Z",
     "start_time": "2024-05-17T20:49:39.807866Z"
    }
   },
   "source": [
    "path = \"GoogleNews-vectors-negative300.bin\"\n",
    "wv = KeyedVectors.load_word2vec_format(path, binary=True)"
   ],
   "outputs": [],
   "execution_count": 257
  },
  {
   "cell_type": "code",
   "id": "68c5a055f569f02b",
   "metadata": {
    "id": "68c5a055f569f02b",
    "ExecuteTime": {
     "end_time": "2024-05-17T20:51:12.120266Z",
     "start_time": "2024-05-17T20:50:35.287439Z"
    }
   },
   "source": [
    "vector_text1 = vectorizer(final_list_text1,wv)\n",
    "vector_text2 = vectorizer(final_list_text2,wv)"
   ],
   "outputs": [],
   "execution_count": 258
  },
  {
   "cell_type": "markdown",
   "id": "eaf40854ffbfd8f5",
   "metadata": {},
   "source": [
    "Cosine Similarity:\n",
    "- Threshold tested: 0.85\n",
    "- Precision: 0.5560"
   ]
  },
  {
   "cell_type": "code",
   "id": "446e09bcf4990bd8",
   "metadata": {
    "id": "446e09bcf4990bd8",
    "ExecuteTime": {
     "end_time": "2024-05-17T20:54:05.906303Z",
     "start_time": "2024-05-17T20:51:12.122253Z"
    }
   },
   "source": [
    "similarity = []\n",
    "for i in range(len(vector_text1)):\n",
    "    text1 = vector_text1[i].reshape(1,-1)\n",
    "    text2 = vector_text2[i].reshape(1,-1)\n",
    "    score = cosine_similarity(text1,text2)[0][0]\n",
    "    similarity.append(score)"
   ],
   "outputs": [],
   "execution_count": 259
  },
  {
   "cell_type": "code",
   "id": "50f69916318a9274",
   "metadata": {
    "id": "50f69916318a9274",
    "ExecuteTime": {
     "end_time": "2024-05-17T20:54:07.815713Z",
     "start_time": "2024-05-17T20:54:05.910288Z"
    }
   },
   "source": [
    "data5 = df.copy()"
   ],
   "outputs": [],
   "execution_count": 260
  },
  {
   "cell_type": "code",
   "id": "b12eb7db6cb1b937",
   "metadata": {
    "id": "b12eb7db6cb1b937",
    "ExecuteTime": {
     "end_time": "2024-05-17T20:54:07.940749Z",
     "start_time": "2024-05-17T20:54:07.820627Z"
    }
   },
   "source": [
    "data5['similarity'] = similarity"
   ],
   "outputs": [],
   "execution_count": 261
  },
  {
   "cell_type": "code",
   "id": "5535aeeb09552799",
   "metadata": {
    "colab": {
     "base_uri": "https://localhost:8080/",
     "height": 990
    },
    "id": "5535aeeb09552799",
    "outputId": "d5cd69b1-fc71-4ec4-a176-2dcb5117ecda",
    "ExecuteTime": {
     "end_time": "2024-05-17T20:54:08.050742Z",
     "start_time": "2024-05-17T20:54:07.942682Z"
    }
   },
   "source": [
    "data5.head(30)"
   ],
   "outputs": [
    {
     "data": {
      "text/plain": [
       "    id  qid1  qid2                                          question1  \\\n",
       "0    0     1     2  What is the step by step guide to invest in sh...   \n",
       "1    1     3     4  What is the story of Kohinoor (Koh-i-Noor) Dia...   \n",
       "2    2     5     6  How can I increase the speed of my internet co...   \n",
       "3    3     7     8  Why am I mentally very lonely? How can I solve...   \n",
       "4    4     9    10  Which one dissolve in water quikly sugar, salt...   \n",
       "5    5    11    12  Astrology: I am a Capricorn Sun Cap moon and c...   \n",
       "6    6    13    14                                Should I buy tiago?   \n",
       "7    7    15    16                     How can I be a good geologist?   \n",
       "8    8    17    18                    When do you use シ instead of し?   \n",
       "9    9    19    20  Motorola (company): Can I hack my Charter Moto...   \n",
       "10  10    21    22  Method to find separation of slits using fresn...   \n",
       "11  11    23    24        How do I read and find my YouTube comments?   \n",
       "12  12    25    26               What can make Physics easy to learn?   \n",
       "13  13    27    28        What was your first sexual experience like?   \n",
       "14  14    29    30  What are the laws to change your status from a...   \n",
       "15  15    31    32  What would a Trump presidency mean for current...   \n",
       "16  16    33    34                       What does manipulation mean?   \n",
       "17  17    35    36  Why do girls want to be friends with the guy t...   \n",
       "18  18    37    38  Why are so many Quora users posting questions ...   \n",
       "19  19    39    40  Which is the best digital marketing institutio...   \n",
       "20  20    41    42                         Why do rockets look white?   \n",
       "21  21    43    44              What's causing someone to be jealous?   \n",
       "22  22    45    46    What are the questions should not ask on Quora?   \n",
       "23  23    47    48                           How much is 30 kV in HP?   \n",
       "24  24    49    50  What does it mean that every time I look at th...   \n",
       "25  25    51    52  What are some tips on making it through the jo...   \n",
       "26  26    53    54                           What is web application?   \n",
       "27  27    55    56  Does society place too much importance on sports?   \n",
       "28  28    57    58             What is best way to make money online?   \n",
       "29  29    59    60             How should I prepare for CA final law?   \n",
       "\n",
       "                                            question2  is_duplicate  \\\n",
       "0   What is the step by step guide to invest in sh...             0   \n",
       "1   What would happen if the Indian government sto...             0   \n",
       "2   How can Internet speed be increased by hacking...             0   \n",
       "3   Find the remainder when [math]23^{24}[/math] i...             0   \n",
       "4             Which fish would survive in salt water?             0   \n",
       "5   I'm a triple Capricorn (Sun, Moon and ascendan...             1   \n",
       "6   What keeps childern active and far from phone ...             0   \n",
       "7           What should I do to be a great geologist?             1   \n",
       "8               When do you use \"&\" instead of \"and\"?             0   \n",
       "9   How do I hack Motorola DCX3400 for free internet?             0   \n",
       "10  What are some of the things technicians can te...             0   \n",
       "11             How can I see all my Youtube comments?             1   \n",
       "12            How can you make physics easy to learn?             1   \n",
       "13             What was your first sexual experience?             1   \n",
       "14  What are the laws to change your status from a...             0   \n",
       "15  How will a Trump presidency affect the student...             1   \n",
       "16                      What does manipulation means?             1   \n",
       "17           How do guys feel after rejecting a girl?             0   \n",
       "18  Why do people ask Quora questions which can be...             1   \n",
       "19  Which is the best digital marketing institute ...             0   \n",
       "20        Why are rockets and boosters painted white?             1   \n",
       "21   What can I do to avoid being jealous of someone?             0   \n",
       "22              Which question should I ask on Quora?             0   \n",
       "23  Where can I find a conversion chart for CC to ...             0   \n",
       "24   How many times a day do a clock’s hands overlap?             0   \n",
       "25  What are some tips on making it through the jo...             0   \n",
       "26             What is the web application framework?             0   \n",
       "27           How do sports contribute to the society?             0   \n",
       "28          What is best way to ask for money online?             0   \n",
       "29  How one should know that he/she completely pre...             1   \n",
       "\n",
       "    similarity  \n",
       "0     0.931028  \n",
       "1     0.487836  \n",
       "2     0.777991  \n",
       "3     0.349589  \n",
       "4     0.646916  \n",
       "5     0.724758  \n",
       "6     0.179363  \n",
       "7     0.935385  \n",
       "8     1.000000  \n",
       "9     0.715290  \n",
       "10    0.324442  \n",
       "11    0.907012  \n",
       "12    1.000000  \n",
       "13    0.945967  \n",
       "14    0.968786  \n",
       "15    0.716099  \n",
       "16    0.894992  \n",
       "17    0.789073  \n",
       "18    0.841282  \n",
       "19    0.812368  \n",
       "20    0.776076  \n",
       "21    0.806013  \n",
       "22    0.886873  \n",
       "23    0.183922  \n",
       "24    0.690887  \n",
       "25    0.913655  \n",
       "26    0.871329  \n",
       "27    0.683623  \n",
       "28    0.923731  \n",
       "29    0.666088  "
      ],
      "text/html": [
       "<div>\n",
       "<style scoped>\n",
       "    .dataframe tbody tr th:only-of-type {\n",
       "        vertical-align: middle;\n",
       "    }\n",
       "\n",
       "    .dataframe tbody tr th {\n",
       "        vertical-align: top;\n",
       "    }\n",
       "\n",
       "    .dataframe thead th {\n",
       "        text-align: right;\n",
       "    }\n",
       "</style>\n",
       "<table border=\"1\" class=\"dataframe\">\n",
       "  <thead>\n",
       "    <tr style=\"text-align: right;\">\n",
       "      <th></th>\n",
       "      <th>id</th>\n",
       "      <th>qid1</th>\n",
       "      <th>qid2</th>\n",
       "      <th>question1</th>\n",
       "      <th>question2</th>\n",
       "      <th>is_duplicate</th>\n",
       "      <th>similarity</th>\n",
       "    </tr>\n",
       "  </thead>\n",
       "  <tbody>\n",
       "    <tr>\n",
       "      <th>0</th>\n",
       "      <td>0</td>\n",
       "      <td>1</td>\n",
       "      <td>2</td>\n",
       "      <td>What is the step by step guide to invest in sh...</td>\n",
       "      <td>What is the step by step guide to invest in sh...</td>\n",
       "      <td>0</td>\n",
       "      <td>0.931028</td>\n",
       "    </tr>\n",
       "    <tr>\n",
       "      <th>1</th>\n",
       "      <td>1</td>\n",
       "      <td>3</td>\n",
       "      <td>4</td>\n",
       "      <td>What is the story of Kohinoor (Koh-i-Noor) Dia...</td>\n",
       "      <td>What would happen if the Indian government sto...</td>\n",
       "      <td>0</td>\n",
       "      <td>0.487836</td>\n",
       "    </tr>\n",
       "    <tr>\n",
       "      <th>2</th>\n",
       "      <td>2</td>\n",
       "      <td>5</td>\n",
       "      <td>6</td>\n",
       "      <td>How can I increase the speed of my internet co...</td>\n",
       "      <td>How can Internet speed be increased by hacking...</td>\n",
       "      <td>0</td>\n",
       "      <td>0.777991</td>\n",
       "    </tr>\n",
       "    <tr>\n",
       "      <th>3</th>\n",
       "      <td>3</td>\n",
       "      <td>7</td>\n",
       "      <td>8</td>\n",
       "      <td>Why am I mentally very lonely? How can I solve...</td>\n",
       "      <td>Find the remainder when [math]23^{24}[/math] i...</td>\n",
       "      <td>0</td>\n",
       "      <td>0.349589</td>\n",
       "    </tr>\n",
       "    <tr>\n",
       "      <th>4</th>\n",
       "      <td>4</td>\n",
       "      <td>9</td>\n",
       "      <td>10</td>\n",
       "      <td>Which one dissolve in water quikly sugar, salt...</td>\n",
       "      <td>Which fish would survive in salt water?</td>\n",
       "      <td>0</td>\n",
       "      <td>0.646916</td>\n",
       "    </tr>\n",
       "    <tr>\n",
       "      <th>5</th>\n",
       "      <td>5</td>\n",
       "      <td>11</td>\n",
       "      <td>12</td>\n",
       "      <td>Astrology: I am a Capricorn Sun Cap moon and c...</td>\n",
       "      <td>I'm a triple Capricorn (Sun, Moon and ascendan...</td>\n",
       "      <td>1</td>\n",
       "      <td>0.724758</td>\n",
       "    </tr>\n",
       "    <tr>\n",
       "      <th>6</th>\n",
       "      <td>6</td>\n",
       "      <td>13</td>\n",
       "      <td>14</td>\n",
       "      <td>Should I buy tiago?</td>\n",
       "      <td>What keeps childern active and far from phone ...</td>\n",
       "      <td>0</td>\n",
       "      <td>0.179363</td>\n",
       "    </tr>\n",
       "    <tr>\n",
       "      <th>7</th>\n",
       "      <td>7</td>\n",
       "      <td>15</td>\n",
       "      <td>16</td>\n",
       "      <td>How can I be a good geologist?</td>\n",
       "      <td>What should I do to be a great geologist?</td>\n",
       "      <td>1</td>\n",
       "      <td>0.935385</td>\n",
       "    </tr>\n",
       "    <tr>\n",
       "      <th>8</th>\n",
       "      <td>8</td>\n",
       "      <td>17</td>\n",
       "      <td>18</td>\n",
       "      <td>When do you use シ instead of し?</td>\n",
       "      <td>When do you use \"&amp;\" instead of \"and\"?</td>\n",
       "      <td>0</td>\n",
       "      <td>1.000000</td>\n",
       "    </tr>\n",
       "    <tr>\n",
       "      <th>9</th>\n",
       "      <td>9</td>\n",
       "      <td>19</td>\n",
       "      <td>20</td>\n",
       "      <td>Motorola (company): Can I hack my Charter Moto...</td>\n",
       "      <td>How do I hack Motorola DCX3400 for free internet?</td>\n",
       "      <td>0</td>\n",
       "      <td>0.715290</td>\n",
       "    </tr>\n",
       "    <tr>\n",
       "      <th>10</th>\n",
       "      <td>10</td>\n",
       "      <td>21</td>\n",
       "      <td>22</td>\n",
       "      <td>Method to find separation of slits using fresn...</td>\n",
       "      <td>What are some of the things technicians can te...</td>\n",
       "      <td>0</td>\n",
       "      <td>0.324442</td>\n",
       "    </tr>\n",
       "    <tr>\n",
       "      <th>11</th>\n",
       "      <td>11</td>\n",
       "      <td>23</td>\n",
       "      <td>24</td>\n",
       "      <td>How do I read and find my YouTube comments?</td>\n",
       "      <td>How can I see all my Youtube comments?</td>\n",
       "      <td>1</td>\n",
       "      <td>0.907012</td>\n",
       "    </tr>\n",
       "    <tr>\n",
       "      <th>12</th>\n",
       "      <td>12</td>\n",
       "      <td>25</td>\n",
       "      <td>26</td>\n",
       "      <td>What can make Physics easy to learn?</td>\n",
       "      <td>How can you make physics easy to learn?</td>\n",
       "      <td>1</td>\n",
       "      <td>1.000000</td>\n",
       "    </tr>\n",
       "    <tr>\n",
       "      <th>13</th>\n",
       "      <td>13</td>\n",
       "      <td>27</td>\n",
       "      <td>28</td>\n",
       "      <td>What was your first sexual experience like?</td>\n",
       "      <td>What was your first sexual experience?</td>\n",
       "      <td>1</td>\n",
       "      <td>0.945967</td>\n",
       "    </tr>\n",
       "    <tr>\n",
       "      <th>14</th>\n",
       "      <td>14</td>\n",
       "      <td>29</td>\n",
       "      <td>30</td>\n",
       "      <td>What are the laws to change your status from a...</td>\n",
       "      <td>What are the laws to change your status from a...</td>\n",
       "      <td>0</td>\n",
       "      <td>0.968786</td>\n",
       "    </tr>\n",
       "    <tr>\n",
       "      <th>15</th>\n",
       "      <td>15</td>\n",
       "      <td>31</td>\n",
       "      <td>32</td>\n",
       "      <td>What would a Trump presidency mean for current...</td>\n",
       "      <td>How will a Trump presidency affect the student...</td>\n",
       "      <td>1</td>\n",
       "      <td>0.716099</td>\n",
       "    </tr>\n",
       "    <tr>\n",
       "      <th>16</th>\n",
       "      <td>16</td>\n",
       "      <td>33</td>\n",
       "      <td>34</td>\n",
       "      <td>What does manipulation mean?</td>\n",
       "      <td>What does manipulation means?</td>\n",
       "      <td>1</td>\n",
       "      <td>0.894992</td>\n",
       "    </tr>\n",
       "    <tr>\n",
       "      <th>17</th>\n",
       "      <td>17</td>\n",
       "      <td>35</td>\n",
       "      <td>36</td>\n",
       "      <td>Why do girls want to be friends with the guy t...</td>\n",
       "      <td>How do guys feel after rejecting a girl?</td>\n",
       "      <td>0</td>\n",
       "      <td>0.789073</td>\n",
       "    </tr>\n",
       "    <tr>\n",
       "      <th>18</th>\n",
       "      <td>18</td>\n",
       "      <td>37</td>\n",
       "      <td>38</td>\n",
       "      <td>Why are so many Quora users posting questions ...</td>\n",
       "      <td>Why do people ask Quora questions which can be...</td>\n",
       "      <td>1</td>\n",
       "      <td>0.841282</td>\n",
       "    </tr>\n",
       "    <tr>\n",
       "      <th>19</th>\n",
       "      <td>19</td>\n",
       "      <td>39</td>\n",
       "      <td>40</td>\n",
       "      <td>Which is the best digital marketing institutio...</td>\n",
       "      <td>Which is the best digital marketing institute ...</td>\n",
       "      <td>0</td>\n",
       "      <td>0.812368</td>\n",
       "    </tr>\n",
       "    <tr>\n",
       "      <th>20</th>\n",
       "      <td>20</td>\n",
       "      <td>41</td>\n",
       "      <td>42</td>\n",
       "      <td>Why do rockets look white?</td>\n",
       "      <td>Why are rockets and boosters painted white?</td>\n",
       "      <td>1</td>\n",
       "      <td>0.776076</td>\n",
       "    </tr>\n",
       "    <tr>\n",
       "      <th>21</th>\n",
       "      <td>21</td>\n",
       "      <td>43</td>\n",
       "      <td>44</td>\n",
       "      <td>What's causing someone to be jealous?</td>\n",
       "      <td>What can I do to avoid being jealous of someone?</td>\n",
       "      <td>0</td>\n",
       "      <td>0.806013</td>\n",
       "    </tr>\n",
       "    <tr>\n",
       "      <th>22</th>\n",
       "      <td>22</td>\n",
       "      <td>45</td>\n",
       "      <td>46</td>\n",
       "      <td>What are the questions should not ask on Quora?</td>\n",
       "      <td>Which question should I ask on Quora?</td>\n",
       "      <td>0</td>\n",
       "      <td>0.886873</td>\n",
       "    </tr>\n",
       "    <tr>\n",
       "      <th>23</th>\n",
       "      <td>23</td>\n",
       "      <td>47</td>\n",
       "      <td>48</td>\n",
       "      <td>How much is 30 kV in HP?</td>\n",
       "      <td>Where can I find a conversion chart for CC to ...</td>\n",
       "      <td>0</td>\n",
       "      <td>0.183922</td>\n",
       "    </tr>\n",
       "    <tr>\n",
       "      <th>24</th>\n",
       "      <td>24</td>\n",
       "      <td>49</td>\n",
       "      <td>50</td>\n",
       "      <td>What does it mean that every time I look at th...</td>\n",
       "      <td>How many times a day do a clock’s hands overlap?</td>\n",
       "      <td>0</td>\n",
       "      <td>0.690887</td>\n",
       "    </tr>\n",
       "    <tr>\n",
       "      <th>25</th>\n",
       "      <td>25</td>\n",
       "      <td>51</td>\n",
       "      <td>52</td>\n",
       "      <td>What are some tips on making it through the jo...</td>\n",
       "      <td>What are some tips on making it through the jo...</td>\n",
       "      <td>0</td>\n",
       "      <td>0.913655</td>\n",
       "    </tr>\n",
       "    <tr>\n",
       "      <th>26</th>\n",
       "      <td>26</td>\n",
       "      <td>53</td>\n",
       "      <td>54</td>\n",
       "      <td>What is web application?</td>\n",
       "      <td>What is the web application framework?</td>\n",
       "      <td>0</td>\n",
       "      <td>0.871329</td>\n",
       "    </tr>\n",
       "    <tr>\n",
       "      <th>27</th>\n",
       "      <td>27</td>\n",
       "      <td>55</td>\n",
       "      <td>56</td>\n",
       "      <td>Does society place too much importance on sports?</td>\n",
       "      <td>How do sports contribute to the society?</td>\n",
       "      <td>0</td>\n",
       "      <td>0.683623</td>\n",
       "    </tr>\n",
       "    <tr>\n",
       "      <th>28</th>\n",
       "      <td>28</td>\n",
       "      <td>57</td>\n",
       "      <td>58</td>\n",
       "      <td>What is best way to make money online?</td>\n",
       "      <td>What is best way to ask for money online?</td>\n",
       "      <td>0</td>\n",
       "      <td>0.923731</td>\n",
       "    </tr>\n",
       "    <tr>\n",
       "      <th>29</th>\n",
       "      <td>29</td>\n",
       "      <td>59</td>\n",
       "      <td>60</td>\n",
       "      <td>How should I prepare for CA final law?</td>\n",
       "      <td>How one should know that he/she completely pre...</td>\n",
       "      <td>1</td>\n",
       "      <td>0.666088</td>\n",
       "    </tr>\n",
       "  </tbody>\n",
       "</table>\n",
       "</div>"
      ]
     },
     "execution_count": 262,
     "metadata": {},
     "output_type": "execute_result"
    }
   ],
   "execution_count": 262
  },
  {
   "cell_type": "code",
   "id": "8df3359cbdc42617",
   "metadata": {
    "id": "8df3359cbdc42617",
    "ExecuteTime": {
     "end_time": "2024-05-17T20:54:08.348717Z",
     "start_time": "2024-05-17T20:54:08.053623Z"
    }
   },
   "source": [
    "tn = len(data5[(data5['similarity'] < 0.85) & (data5['is_duplicate'] == 0)])\n",
    "tp = len(data5[(data5['similarity'] >= 0.85) & (data5['is_duplicate'] == 1)])"
   ],
   "outputs": [],
   "execution_count": 263
  },
  {
   "cell_type": "code",
   "id": "394f6201935e72f3",
   "metadata": {
    "colab": {
     "base_uri": "https://localhost:8080/"
    },
    "id": "394f6201935e72f3",
    "outputId": "c3ff96c2-92f0-4bda-da25-4d76ed9afe7c",
    "ExecuteTime": {
     "end_time": "2024-05-17T20:54:08.615659Z",
     "start_time": "2024-05-17T20:54:08.350713Z"
    }
   },
   "source": [
    "print_metrics(tn,tp)"
   ],
   "outputs": [
    {
     "name": "stdout",
     "output_type": "stream",
     "text": [
      "Precision: 0.5560\n",
      "Recall: 0.5056\n",
      "Accuracy: 0.6683\n"
     ]
    }
   ],
   "execution_count": 264
  },
  {
   "cell_type": "markdown",
   "id": "9255550a0ce9d74e",
   "metadata": {
    "id": "9255550a0ce9d74e"
   },
   "source": [
    "Different thresholds were tested, and the threshold of 0.85 was selected for its high precision while keeping the F1 score above 0.5. This threshold was chosen to minimize false positives effectively."
   ]
  },
  {
   "cell_type": "markdown",
   "id": "b3ef59213c4c8b5a",
   "metadata": {},
   "source": [
    "_Overall, the experimental results indicate that the best performance in terms of precision was achieved using the GoogleNews Word2Vec model with cosine similarity at a threshold of 0.85, yielding a precision of 0.5560. This model outperformed the others, particularly in minimizing false positives while maintaining an F1 score above 0.5. The TF-IDF vectorizer with cosine similarity also showed strong results, with a precision of 0.5546 at a threshold of 0.75. These findings underscore the importance of selecting appropriate thresholds to balance precision and F1 score, and highlight the effectiveness of leveraging pre-trained Word2Vec embeddings for question matching tasks._ "
   ]
  },
  {
   "cell_type": "code",
   "id": "16df3812e831f01",
   "metadata": {
    "ExecuteTime": {
     "end_time": "2024-05-17T20:54:09.320638Z",
     "start_time": "2024-05-17T20:54:08.617641Z"
    }
   },
   "source": [
    "additional_df = pd.read_csv(\"Text_Similarity_Dataset.csv\")"
   ],
   "outputs": [],
   "execution_count": 265
  },
  {
   "metadata": {},
   "cell_type": "markdown",
   "source": [
    "The dataset provided aims to address the task of quantifying the degree of similarity between two paragraphs based on semantic similarity. Semantic Textual Similarity (STS) is the key metric used, which evaluates how closely two sentences match in terms of their meaning. This task is crucial for various language understanding applications such as machine translation, summarization, question-answering, and semantic search.\n",
    "\n",
    "The dataset consists of a single CSV file containing two columns: \"text1\" and \"text2\", each containing textual data. There are 4022 rows in the dataset, with each row representing a pair of paragraphs. The objective is to predict a similarity score ranging from 0 to 1 for each pair of text paragraphs, where 1 indicates high similarity and 0 indicates high dissimilarity.\n",
    "\n",
    "It's important to note that the dataset does not contain any pre-assigned labels, making it suitable for unsupervised learning approaches. However, supervised techniques can also be applied if desired. The paragraphs in the dataset are randomly sampled from a raw dataset, providing a diverse range of text pairs for analysis and modeling."
   ],
   "id": "446a3000f2819567"
  },
  {
   "cell_type": "code",
   "id": "5badffb881af813e",
   "metadata": {
    "colab": {
     "base_uri": "https://localhost:8080/",
     "height": 206
    },
    "id": "5badffb881af813e",
    "outputId": "dd60856b-496d-434f-9e07-7beaab1656cc",
    "ExecuteTime": {
     "end_time": "2024-05-17T20:54:09.335716Z",
     "start_time": "2024-05-17T20:54:09.323622Z"
    }
   },
   "source": [
    "additional_df.head()"
   ],
   "outputs": [
    {
     "data": {
      "text/plain": [
       "   Unique_ID                                              text1  \\\n",
       "0          0  savvy searchers fail to spot ads internet sear...   \n",
       "1          1  millions to miss out on the net by 2025  40% o...   \n",
       "2          2  young debut cut short by ginepri fifteen-year-...   \n",
       "3          3  diageo to buy us wine firm diageo  the world s...   \n",
       "4          4  be careful how you code a new european directi...   \n",
       "\n",
       "                                               text2  \n",
       "0  newcastle 2-1 bolton kieron dyer smashed home ...  \n",
       "1  nasdaq planning $100m share sale the owner of ...  \n",
       "2  ruddock backs yapp s credentials wales coach m...  \n",
       "3  mci shares climb on takeover bid shares in us ...  \n",
       "4  media gadgets get moving pocket-sized devices ...  "
      ],
      "text/html": [
       "<div>\n",
       "<style scoped>\n",
       "    .dataframe tbody tr th:only-of-type {\n",
       "        vertical-align: middle;\n",
       "    }\n",
       "\n",
       "    .dataframe tbody tr th {\n",
       "        vertical-align: top;\n",
       "    }\n",
       "\n",
       "    .dataframe thead th {\n",
       "        text-align: right;\n",
       "    }\n",
       "</style>\n",
       "<table border=\"1\" class=\"dataframe\">\n",
       "  <thead>\n",
       "    <tr style=\"text-align: right;\">\n",
       "      <th></th>\n",
       "      <th>Unique_ID</th>\n",
       "      <th>text1</th>\n",
       "      <th>text2</th>\n",
       "    </tr>\n",
       "  </thead>\n",
       "  <tbody>\n",
       "    <tr>\n",
       "      <th>0</th>\n",
       "      <td>0</td>\n",
       "      <td>savvy searchers fail to spot ads internet sear...</td>\n",
       "      <td>newcastle 2-1 bolton kieron dyer smashed home ...</td>\n",
       "    </tr>\n",
       "    <tr>\n",
       "      <th>1</th>\n",
       "      <td>1</td>\n",
       "      <td>millions to miss out on the net by 2025  40% o...</td>\n",
       "      <td>nasdaq planning $100m share sale the owner of ...</td>\n",
       "    </tr>\n",
       "    <tr>\n",
       "      <th>2</th>\n",
       "      <td>2</td>\n",
       "      <td>young debut cut short by ginepri fifteen-year-...</td>\n",
       "      <td>ruddock backs yapp s credentials wales coach m...</td>\n",
       "    </tr>\n",
       "    <tr>\n",
       "      <th>3</th>\n",
       "      <td>3</td>\n",
       "      <td>diageo to buy us wine firm diageo  the world s...</td>\n",
       "      <td>mci shares climb on takeover bid shares in us ...</td>\n",
       "    </tr>\n",
       "    <tr>\n",
       "      <th>4</th>\n",
       "      <td>4</td>\n",
       "      <td>be careful how you code a new european directi...</td>\n",
       "      <td>media gadgets get moving pocket-sized devices ...</td>\n",
       "    </tr>\n",
       "  </tbody>\n",
       "</table>\n",
       "</div>"
      ]
     },
     "execution_count": 266,
     "metadata": {},
     "output_type": "execute_result"
    }
   ],
   "execution_count": 266
  },
  {
   "cell_type": "code",
   "id": "a5918c4faab88035",
   "metadata": {
    "id": "a5918c4faab88035",
    "ExecuteTime": {
     "end_time": "2024-05-17T20:54:34.594447Z",
     "start_time": "2024-05-17T20:54:09.338994Z"
    }
   },
   "source": [
    "additional_df['cleaned_text1'] = additional_df['text1'].apply(clean_text)\n",
    "additional_df['cleaned_text2'] = additional_df['text2'].apply(clean_text)"
   ],
   "outputs": [],
   "execution_count": 267
  },
  {
   "cell_type": "code",
   "id": "fad6b4e7eaa5542",
   "metadata": {
    "id": "fad6b4e7eaa5542",
    "ExecuteTime": {
     "end_time": "2024-05-17T20:54:35.004705Z",
     "start_time": "2024-05-17T20:54:34.597447Z"
    }
   },
   "source": [
    "additional_final_list_text1 = additional_df['cleaned_text1'].to_list()\n",
    "additional_final_list_text2 = additional_df['cleaned_text2'].to_list()"
   ],
   "outputs": [],
   "execution_count": 268
  },
  {
   "cell_type": "code",
   "id": "329eb5a591a5c786",
   "metadata": {
    "id": "329eb5a591a5c786",
    "ExecuteTime": {
     "end_time": "2024-05-17T20:54:38.846793Z",
     "start_time": "2024-05-17T20:54:35.006707Z"
    }
   },
   "source": [
    "additional_vector_text1 = vectorizer(additional_final_list_text1,wv)\n",
    "additional_vector_text2 = vectorizer(additional_final_list_text2,wv)"
   ],
   "outputs": [],
   "execution_count": 269
  },
  {
   "cell_type": "code",
   "id": "fa89faf704e63b07",
   "metadata": {
    "id": "fa89faf704e63b07",
    "ExecuteTime": {
     "end_time": "2024-05-17T20:54:39.988107Z",
     "start_time": "2024-05-17T20:54:38.848802Z"
    }
   },
   "source": [
    "additional_similarity = []\n",
    "for i in range(len(additional_vector_text1)):\n",
    "    additional_text1 = additional_vector_text1[i].reshape(1,-1)\n",
    "    additional_text2 = additional_vector_text2[i].reshape(1,-1)\n",
    "    score = cosine_similarity(additional_text1,additional_text2)[0][0]\n",
    "    additional_similarity.append(score)"
   ],
   "outputs": [],
   "execution_count": 270
  },
  {
   "cell_type": "code",
   "id": "fd00d9a10f860499",
   "metadata": {
    "id": "fd00d9a10f860499",
    "ExecuteTime": {
     "end_time": "2024-05-17T20:54:40.004039Z",
     "start_time": "2024-05-17T20:54:39.992047Z"
    }
   },
   "source": [
    "duplicates = [i for i in additional_similarity if i >= 0.85]"
   ],
   "outputs": [],
   "execution_count": 271
  },
  {
   "cell_type": "code",
   "id": "65834d3353212928",
   "metadata": {
    "colab": {
     "base_uri": "https://localhost:8080/"
    },
    "id": "65834d3353212928",
    "outputId": "c31aed45-54a9-4a1f-acdb-88a5f70c8b42",
    "ExecuteTime": {
     "end_time": "2024-05-17T20:54:40.020039Z",
     "start_time": "2024-05-17T20:54:40.006040Z"
    }
   },
   "source": [
    "len(duplicates)"
   ],
   "outputs": [
    {
     "data": {
      "text/plain": [
       "274"
      ]
     },
     "execution_count": 272,
     "metadata": {},
     "output_type": "execute_result"
    }
   ],
   "execution_count": 272
  },
  {
   "cell_type": "code",
   "id": "407d8c40af3b3208",
   "metadata": {
    "colab": {
     "base_uri": "https://localhost:8080/"
    },
    "id": "407d8c40af3b3208",
    "outputId": "ee395678-2c6d-47d1-af74-d9ff313382e1",
    "ExecuteTime": {
     "end_time": "2024-05-17T20:54:40.035039Z",
     "start_time": "2024-05-17T20:54:40.022041Z"
    }
   },
   "source": [
    "non_duplicates = [i for i in additional_similarity if i < 0.85]\n",
    "len(non_duplicates)"
   ],
   "outputs": [
    {
     "data": {
      "text/plain": [
       "3749"
      ]
     },
     "execution_count": 273,
     "metadata": {},
     "output_type": "execute_result"
    }
   ],
   "execution_count": 273
  },
  {
   "cell_type": "markdown",
   "id": "13a9daa1a373b1b3",
   "metadata": {
    "id": "13a9daa1a373b1b3"
   },
   "source": [
    "The merging process was conducted with a small amount of data in the study; nevertheless, there is potential for it to be extended to incorporate a larger dataset in the future."
   ]
  },
  {
   "cell_type": "code",
   "id": "14d9ade5530f49ad",
   "metadata": {
    "id": "14d9ade5530f49ad",
    "ExecuteTime": {
     "end_time": "2024-05-17T20:54:40.051053Z",
     "start_time": "2024-05-17T20:54:40.037040Z"
    }
   },
   "source": [
    "additional_df[\"similarity\"] = additional_similarity\n",
    "additional_df[\"is_duplicate\"] = additional_df[\"similarity\"].apply(lambda x: 1 if x >= 0.85 else 0)"
   ],
   "outputs": [],
   "execution_count": 274
  },
  {
   "cell_type": "code",
   "id": "253e2be2a42f8d6c",
   "metadata": {
    "id": "253e2be2a42f8d6c",
    "ExecuteTime": {
     "end_time": "2024-05-17T20:54:40.146129Z",
     "start_time": "2024-05-17T20:54:40.053040Z"
    }
   },
   "source": [
    "df[\"similarity\"] = similarity\n",
    "df[\"vectorized_text1\"] = vector_text1"
   ],
   "outputs": [],
   "execution_count": 275
  },
  {
   "cell_type": "code",
   "id": "4a9168be02fbc028",
   "metadata": {
    "id": "4a9168be02fbc028",
    "ExecuteTime": {
     "end_time": "2024-05-17T20:54:40.240248Z",
     "start_time": "2024-05-17T20:54:40.149040Z"
    }
   },
   "source": [
    "df = df.rename(columns={'question1': 'text1', 'question2': 'text2'})"
   ],
   "outputs": [],
   "execution_count": 276
  },
  {
   "cell_type": "code",
   "id": "5dc669d20ab69a75",
   "metadata": {
    "id": "5dc669d20ab69a75",
    "ExecuteTime": {
     "end_time": "2024-05-17T20:54:40.303273Z",
     "start_time": "2024-05-17T20:54:40.243194Z"
    }
   },
   "source": [
    "merged_df = pd.concat([df[['text1', 'text2', 'is_duplicate', 'similarity']], additional_df[['text1', 'text2', 'is_duplicate', 'similarity']]], ignore_index=True)"
   ],
   "outputs": [],
   "execution_count": 277
  },
  {
   "cell_type": "code",
   "id": "a62f1747d65371f8",
   "metadata": {
    "id": "a62f1747d65371f8",
    "ExecuteTime": {
     "end_time": "2024-05-17T20:54:40.397254Z",
     "start_time": "2024-05-17T20:54:40.305282Z"
    }
   },
   "source": [
    "merged_df = merged_df.sample(frac=1, random_state=42).reset_index(drop=True)"
   ],
   "outputs": [],
   "execution_count": 278
  },
  {
   "cell_type": "code",
   "id": "e1dc5a65a1e5ddd7",
   "metadata": {
    "colab": {
     "base_uri": "https://localhost:8080/",
     "height": 206
    },
    "id": "e1dc5a65a1e5ddd7",
    "outputId": "b2cceaa4-e6bf-424e-a8a1-fb94fd126790",
    "ExecuteTime": {
     "end_time": "2024-05-17T20:54:40.413242Z",
     "start_time": "2024-05-17T20:54:40.399187Z"
    }
   },
   "source": [
    "merged_df.head()"
   ],
   "outputs": [
    {
     "data": {
      "text/plain": [
       "                                               text1  \\\n",
       "0  Are religious fanatics deliberately creating t...   \n",
       "1            What are the best questions asked ever?   \n",
       "2   What are good ways to run an illegal poker room?   \n",
       "3  Computer Science: How do I propose a game idea...   \n",
       "4  Who is better from India's perspective, Donald...   \n",
       "\n",
       "                                               text2  is_duplicate  similarity  \n",
       "0  Are children raised by pure atheists on the co...             0    0.635557  \n",
       "1          Which are some best questions ever asked?             1    1.000000  \n",
       "2  What is the difference between a \"poker room\" ...             0    0.737529  \n",
       "3  How do I pitch an idea for a video game to a m...             1    0.734780  \n",
       "4  Who would be better from indian perspective, T...             1    0.868903  "
      ],
      "text/html": [
       "<div>\n",
       "<style scoped>\n",
       "    .dataframe tbody tr th:only-of-type {\n",
       "        vertical-align: middle;\n",
       "    }\n",
       "\n",
       "    .dataframe tbody tr th {\n",
       "        vertical-align: top;\n",
       "    }\n",
       "\n",
       "    .dataframe thead th {\n",
       "        text-align: right;\n",
       "    }\n",
       "</style>\n",
       "<table border=\"1\" class=\"dataframe\">\n",
       "  <thead>\n",
       "    <tr style=\"text-align: right;\">\n",
       "      <th></th>\n",
       "      <th>text1</th>\n",
       "      <th>text2</th>\n",
       "      <th>is_duplicate</th>\n",
       "      <th>similarity</th>\n",
       "    </tr>\n",
       "  </thead>\n",
       "  <tbody>\n",
       "    <tr>\n",
       "      <th>0</th>\n",
       "      <td>Are religious fanatics deliberately creating t...</td>\n",
       "      <td>Are children raised by pure atheists on the co...</td>\n",
       "      <td>0</td>\n",
       "      <td>0.635557</td>\n",
       "    </tr>\n",
       "    <tr>\n",
       "      <th>1</th>\n",
       "      <td>What are the best questions asked ever?</td>\n",
       "      <td>Which are some best questions ever asked?</td>\n",
       "      <td>1</td>\n",
       "      <td>1.000000</td>\n",
       "    </tr>\n",
       "    <tr>\n",
       "      <th>2</th>\n",
       "      <td>What are good ways to run an illegal poker room?</td>\n",
       "      <td>What is the difference between a \"poker room\" ...</td>\n",
       "      <td>0</td>\n",
       "      <td>0.737529</td>\n",
       "    </tr>\n",
       "    <tr>\n",
       "      <th>3</th>\n",
       "      <td>Computer Science: How do I propose a game idea...</td>\n",
       "      <td>How do I pitch an idea for a video game to a m...</td>\n",
       "      <td>1</td>\n",
       "      <td>0.734780</td>\n",
       "    </tr>\n",
       "    <tr>\n",
       "      <th>4</th>\n",
       "      <td>Who is better from India's perspective, Donald...</td>\n",
       "      <td>Who would be better from indian perspective, T...</td>\n",
       "      <td>1</td>\n",
       "      <td>0.868903</td>\n",
       "    </tr>\n",
       "  </tbody>\n",
       "</table>\n",
       "</div>"
      ]
     },
     "execution_count": 279,
     "metadata": {},
     "output_type": "execute_result"
    }
   ],
   "execution_count": 279
  },
  {
   "metadata": {},
   "cell_type": "markdown",
   "source": "During the data exploration and understanding stage of the project, available datasets were identified and integrated, including internal and open source data, and new data was collected as necessary. Plotting and visualization tools were utilized to examine the distribution, trends, and potential relationships within the data. Consideration was given to key aspects such as data normalization, minimum and maximum values, data availability, and data units. Decisions regarding subsequent data preparation and modeling steps were guided by this comprehensive understanding of the data, aligning with the project's objectives.",
   "id": "69e17ea92198a34e"
  },
  {
   "cell_type": "code",
   "id": "e05827c04802c422",
   "metadata": {
    "ExecuteTime": {
     "end_time": "2024-05-17T20:54:47.030454Z",
     "start_time": "2024-05-17T20:54:40.415190Z"
    }
   },
   "source": [
    "merged_df['length q1'] = merged_df['text1'].apply(len)\n",
    "merged_df['length q2'] = merged_df['text2'].apply(len) \n",
    "\n",
    "\n",
    "plt.figure(figsize=(6, 6))\n",
    "sns.set_style('whitegrid')\n",
    "sns.distplot(merged_df['length q1'], color='red', bins=50)"
   ],
   "outputs": [
    {
     "data": {
      "text/plain": [
       "<Axes: xlabel='length q1', ylabel='Density'>"
      ]
     },
     "execution_count": 280,
     "metadata": {},
     "output_type": "execute_result"
    },
    {
     "data": {
      "text/plain": [
       "<Figure size 600x600 with 1 Axes>"
      ],
      "image/png": "[encoded data removed]"
     },
     "metadata": {},
     "output_type": "display_data"
    }
   ],
   "execution_count": 280
  },
  {
   "metadata": {},
   "cell_type": "markdown",
   "source": "The lengths of the text in the 'text1' column were computed using the apply function and stored in a new column named 'length q1'. Similarly, the lengths of the text in the 'text2' column were computed and stored in a new column named 'length q2'. Subsequently, histograms were created using seaborn's distplot function to display the distribution of text lengths in both 'length q1' and 'length q2' columns. The histograms are colored red and green respectively, and each is divided into 50 bins to provide a clear representation of the data distribution. Additionally, the style of the plot was set to 'whitegrid' to improve readability.\n",
   "id": "157918f485c41fa0"
  },
  {
   "cell_type": "code",
   "id": "36d4d3a49e5ea94a",
   "metadata": {
    "ExecuteTime": {
     "end_time": "2024-05-17T20:54:53.995176Z",
     "start_time": "2024-05-17T20:54:47.035405Z"
    }
   },
   "source": [
    "plt.figure(figsize=(6,6))\n",
    "sns.distplot(merged_df['length q2'],color='green',bins=50)"
   ],
   "outputs": [
    {
     "data": {
      "text/plain": [
       "<Axes: xlabel='length q2', ylabel='Density'>"
      ]
     },
     "execution_count": 281,
     "metadata": {},
     "output_type": "execute_result"
    },
    {
     "data": {
      "text/plain": [
       "<Figure size 600x600 with 1 Axes>"
      ],
      "image/png": "[encoded data removed]"
     },
     "metadata": {},
     "output_type": "display_data"
    }
   ],
   "execution_count": 281
  },
  {
   "metadata": {
    "ExecuteTime": {
     "end_time": "2024-05-17T20:54:55.413758Z",
     "start_time": "2024-05-17T20:54:53.998158Z"
    }
   },
   "cell_type": "code",
   "source": [
    "plt.figure(figsize=(6,6))\n",
    "sns.boxplot(x=merged_df['is_duplicate'],y='length q1',data=merged_df,palette='rainbow')"
   ],
   "id": "a8883f4e9d509f6e",
   "outputs": [
    {
     "data": {
      "text/plain": [
       "<Axes: xlabel='is_duplicate', ylabel='length q1'>"
      ]
     },
     "execution_count": 282,
     "metadata": {},
     "output_type": "execute_result"
    },
    {
     "data": {
      "text/plain": [
       "<Figure size 600x600 with 1 Axes>"
      ],
      "image/png": "[encoded data removed]"
     },
     "metadata": {},
     "output_type": "display_data"
    }
   ],
   "execution_count": 282
  },
  {
   "metadata": {},
   "cell_type": "markdown",
   "source": "A figure with a size of 6 by 6 was created, wherein a boxplot was generated using seaborn's boxplot function. The boxplot displays the distribution of the 'length q1' feature based on the 'is_duplicate' label from the merged DataFrame. The color palette 'rainbow' was applied to enhance visualization.",
   "id": "49c2b922fdd15dfe"
  },
  {
   "cell_type": "code",
   "id": "9036cc3a42ee109b",
   "metadata": {
    "ExecuteTime": {
     "end_time": "2024-05-17T20:55:05.801157Z",
     "start_time": "2024-05-17T20:54:55.418720Z"
    }
   },
   "source": [
    "copy_df = merged_df.copy()\n",
    "def normalized_word_share(row):\n",
    "    w1 = set(map(lambda word: word.lower().strip(), row['text1'].split(\" \")))\n",
    "    w2 = set(map(lambda word: word.lower().strip(), row['text2'].split(\" \")))    \n",
    "    return 1.0 * len(w1 & w2)/(len(w1) + len(w2))\n",
    "\n",
    "\n",
    "copy_df['word_share'] = copy_df.apply(normalized_word_share, axis=1)\n",
    "plt.figure(figsize=(12, 8))\n",
    "plt.subplot(1,2,1)\n",
    "sns.violinplot(x = 'is_duplicate', y = 'word_share', data = copy_df[0:50000])\n",
    "plt.subplot(1,2,2)\n",
    "sns.distplot(copy_df[copy_df['is_duplicate'] == 1.0]['word_share'][0:10000], color = 'green')\n",
    "sns.distplot(copy_df[copy_df['is_duplicate'] == 0.0]['word_share'][0:10000], color = 'red')"
   ],
   "outputs": [
    {
     "data": {
      "text/plain": [
       "<Axes: xlabel='word_share', ylabel='Density'>"
      ]
     },
     "execution_count": 283,
     "metadata": {},
     "output_type": "execute_result"
    },
    {
     "data": {
      "text/plain": [
       "<Figure size 1200x800 with 2 Axes>"
      ],
      "image/png": "[encoded data removed]"
     },
     "metadata": {},
     "output_type": "display_data"
    }
   ],
   "execution_count": 283
  },
  {
   "metadata": {},
   "cell_type": "markdown",
   "source": [
    "The first plot is a violin plot illustrating the distribution of word share grouped by the 'is_duplicate' label. It utilizes only the first 50,000 rows of the dataset.\n",
    "The second plot consists of density plots showing the distribution of word share within subsets where the 'is_duplicate' label is either 1.0 (indicating genuinely duplicated questions) or 0.0 (indicating non-duplicated questions). The plot utilizes the first 10,000 rows for each subset. Green represents genuinely duplicated questions, while red represents non-duplicated ones. This visualization aids in evaluating the effectiveness of the 'word_share' feature in distinguishing between duplicate and non-duplicate questions. Overall, both plots indicate that a higher word share increases the likelihood of questions being duplicates.\n"
   ],
   "id": "74d1301fb5008b5b"
  },
  {
   "cell_type": "markdown",
   "id": "79f0ed5ff32f69c3",
   "metadata": {
    "id": "79f0ed5ff32f69c3"
   },
   "source": [
    "# BEFORE PREPROCESSING"
   ]
  },
  {
   "cell_type": "code",
   "id": "e2f36e62aed7c391",
   "metadata": {
    "id": "e2f36e62aed7c391",
    "ExecuteTime": {
     "end_time": "2024-05-17T20:55:05.832128Z",
     "start_time": "2024-05-17T20:55:05.803126Z"
    }
   },
   "source": [
    "final_lst_text1 = df['text1'].to_list()\n",
    "final_lst_text2 = df['text2'].to_list()"
   ],
   "outputs": [],
   "execution_count": 284
  },
  {
   "cell_type": "code",
   "id": "21ca303752ec33e4",
   "metadata": {
    "id": "21ca303752ec33e4",
    "ExecuteTime": {
     "end_time": "2024-05-17T20:57:06.235022Z",
     "start_time": "2024-05-17T20:55:05.834136Z"
    }
   },
   "source": [
    "final_vector_text1 = vectorizer(final_lst_text1,wv)\n",
    "final_vector_text2 = vectorizer(final_lst_text2,wv)"
   ],
   "outputs": [],
   "execution_count": 285
  },
  {
   "cell_type": "code",
   "id": "d56f096aeca8babe",
   "metadata": {
    "id": "d56f096aeca8babe",
    "ExecuteTime": {
     "end_time": "2024-05-17T20:57:12.533506Z",
     "start_time": "2024-05-17T20:57:06.237972Z"
    }
   },
   "source": [
    "X = np.concatenate((final_vector_text1, final_vector_text2), axis=1)"
   ],
   "outputs": [],
   "execution_count": 286
  },
  {
   "cell_type": "code",
   "id": "6d08b9756a448c11",
   "metadata": {
    "id": "6d08b9756a448c11",
    "ExecuteTime": {
     "end_time": "2024-05-17T20:57:13.733519Z",
     "start_time": "2024-05-17T20:57:12.551505Z"
    }
   },
   "source": [
    "y = df['is_duplicate']  \n",
    "X_train, X_test, y_train, y_test = train_test_split(X, y, test_size=0.3, random_state=42)"
   ],
   "outputs": [],
   "execution_count": 287
  },
  {
   "metadata": {
    "ExecuteTime": {
     "end_time": "2024-05-17T20:57:13.749505Z",
     "start_time": "2024-05-17T20:57:13.736506Z"
    }
   },
   "cell_type": "code",
   "source": "first_results = {}",
   "id": "8b53d2fb3d502b43",
   "outputs": [],
   "execution_count": 288
  },
  {
   "metadata": {
    "ExecuteTime": {
     "end_time": "2024-05-17T20:57:35.876598Z",
     "start_time": "2024-05-17T20:57:13.752507Z"
    }
   },
   "cell_type": "code",
   "source": [
    "first_log_model = LogisticRegression(random_state=42, max_iter=100)\n",
    "first_log_model.fit(X_train, y_train)\n",
    "first_log_prediction = first_log_model.predict(X_test)\n",
    "first_results[\"log_model\"] = {\n",
    "    'accuracy': accuracy_score(y_test, first_log_prediction),\n",
    "    'precision': precision_score(y_test, first_log_prediction),\n",
    "    'recall': recall_score(y_test, first_log_prediction),\n",
    "    'f1': f1_score(y_test, first_log_prediction)\n",
    "}"
   ],
   "id": "4ca241b44c751dd7",
   "outputs": [],
   "execution_count": 289
  },
  {
   "metadata": {
    "ExecuteTime": {
     "end_time": "2024-05-17T21:51:28.895927Z",
     "start_time": "2024-05-17T20:57:35.880598Z"
    }
   },
   "cell_type": "code",
   "source": [
    "first_rf_model = RandomForestClassifier(random_state=42)\n",
    "first_rf_model.fit(X_train, y_train)\n",
    "first_rf_prediction = first_rf_model.predict(X_test)\n",
    "first_results[\"rf_model\"] = {\n",
    "    'accuracy': accuracy_score(y_test, first_rf_prediction),\n",
    "    'precision': precision_score(y_test, first_rf_prediction),\n",
    "    'recall': recall_score(y_test, first_rf_prediction),\n",
    "    'f1': f1_score(y_test, first_rf_prediction)\n",
    "}"
   ],
   "id": "c04665a366b1acdf",
   "outputs": [],
   "execution_count": 290
  },
  {
   "cell_type": "code",
   "id": "139eabd9ee19757e",
   "metadata": {
    "ExecuteTime": {
     "end_time": "2024-05-17T21:52:44.662879Z",
     "start_time": "2024-05-17T21:51:28.976927Z"
    }
   },
   "source": [
    "xgb_model = xgb.XGBClassifier(max_depth=10, n_estimators=15, learning_rate=0.1, colsample_bytree=0.8, gamma=0, reg_alpha=4, objective='binary:logistic', eta=0.3, silent=1, subsample=0.8)\n",
    "xgb_model.fit(X_train, y_train)\n",
    "\n",
    "xgb_prediction = xgb_model.predict(X_test)\n",
    "first_results[\"xgb_model\"] = {\n",
    "    'accuracy': accuracy_score(y_test, xgb_prediction),\n",
    "    'precision': precision_score(y_test, xgb_prediction),\n",
    "    'recall': recall_score(y_test, xgb_prediction),\n",
    "    'f1': f1_score(y_test, xgb_prediction)\n",
    "}"
   ],
   "outputs": [],
   "execution_count": 292
  },
  {
   "metadata": {
    "ExecuteTime": {
     "end_time": "2024-05-17T21:52:44.721886Z",
     "start_time": "2024-05-17T21:52:44.685885Z"
    }
   },
   "cell_type": "code",
   "source": [
    "for model_name, metrics in first_results.items():\n",
    "    print(f\"Model: {model_name}\")\n",
    "    for metric_name, value in metrics.items():\n",
    "        print(f\"{metric_name}: {value}\")\n",
    "    print()"
   ],
   "id": "d2f85d482eb313f7",
   "outputs": [
    {
     "name": "stdout",
     "output_type": "stream",
     "text": [
      "Model: log_model\n",
      "accuracy: 0.6545814269815754\n",
      "precision: 0.5969287020109689\n",
      "recall: 0.18322409768360567\n",
      "f1: 0.2803853882219589\n",
      "\n",
      "Model: rf_model\n",
      "accuracy: 0.7680804583487902\n",
      "precision: 0.8381874356333676\n",
      "recall: 0.4567022804812354\n",
      "f1: 0.5912505266828425\n",
      "\n",
      "Model: xgb_model\n",
      "accuracy: 0.6996991055603644\n",
      "precision: 0.7585285132382892\n",
      "recall: 0.2675076315316933\n",
      "f1: 0.3955263507234833\n",
      "\n"
     ]
    }
   ],
   "execution_count": 293
  },
  {
   "cell_type": "markdown",
   "id": "b45a5ad14db87861",
   "metadata": {
    "id": "b45a5ad14db87861"
   },
   "source": "# AFTER PREPROCESSING WITH NLP TECHNIQUES"
  },
  {
   "cell_type": "code",
   "id": "LTFpC4bLrB4n",
   "metadata": {
    "id": "LTFpC4bLrB4n",
    "ExecuteTime": {
     "end_time": "2024-05-17T22:00:35.770542Z",
     "start_time": "2024-05-17T22:00:35.193503Z"
    }
   },
   "source": [
    "merged_df_clean = pd.DataFrame(merged_df[[\"text1\", \"text2\"]])"
   ],
   "outputs": [],
   "execution_count": 294
  },
  {
   "metadata": {},
   "cell_type": "markdown",
   "source": [
    "In the preprocessing stage, the dataset underwent several transformations to enhance its quality and prepare it for subsequent modeling tasks. Initially, empty or null values were removed from the dataset to ensure data integrity. Following this, a meticulous data cleaning process was applied to both text columns ('text1' and 'text2'). This involved multiple steps, including the removal of numerical digits, standardization of certain terms such as country names, and elimination of punctuation marks. Additionally, all text was converted to lowercase to maintain consistency.\n",
    "\n",
    "Further refinement was achieved through the removal of stop words, which are commonly occurring words that do not carry significant semantic meaning. Short words consisting of two or fewer characters were also eliminated to focus on more informative terms. Additionally, stemming and lemmatization techniques were applied to reduce words to their root forms, aiding in feature extraction and reducing the dimensionality of the dataset.\n"
   ],
   "id": "c7b1c4f094e675e5"
  },
  {
   "cell_type": "code",
   "id": "1bfI25azf2w0",
   "metadata": {
    "id": "1bfI25azf2w0",
    "ExecuteTime": {
     "end_time": "2024-05-17T22:00:38.594030Z",
     "start_time": "2024-05-17T22:00:35.775522Z"
    }
   },
   "source": [
    "def remove_numbers(text):\n",
    "    return re.sub(r'\\d+', '', text)\n",
    "\n",
    "merged_df_clean['text1'] = merged_df_clean['text1'].apply(remove_numbers)\n",
    "merged_df_clean['text2'] = merged_df_clean['text2'].apply(remove_numbers)"
   ],
   "outputs": [],
   "execution_count": 295
  },
  {
   "cell_type": "code",
   "id": "9408dce8b0d6d724",
   "metadata": {
    "ExecuteTime": {
     "end_time": "2024-05-17T22:01:46.939949Z",
     "start_time": "2024-05-17T22:00:38.596991Z"
    }
   },
   "source": [
    "def clean_text(text):\n",
    "    text = re.sub(r\" (the[\\s]+|The[\\s]+)?US(A)? \", \" America \", text)\n",
    "    text = re.sub(\"(the[\\s]+|The[\\s]+)?U\\.S\\.A\\.\", \" America \", text, flags=re.IGNORECASE)\n",
    "    text = re.sub(\"(the[\\s]+|The[\\s]+)?United State(s)?\", \" America \", text, flags=re.IGNORECASE)\n",
    "    text = re.sub(r\" UK \", \" England \", text, flags=re.IGNORECASE)\n",
    "    text = re.sub(r\" india \", \" India \", text)\n",
    "    text = re.sub(r\" switzerland \", \" Switzerland \", text)\n",
    "    text = re.sub(r\" china \", \" China \", text)\n",
    "    text = re.sub(r\" chinese \", \" Chinese \", text) \n",
    "    text = re.sub(r\" imrovement \", \" improvement \", text, flags=re.IGNORECASE)\n",
    "    text = re.sub(r\" intially \", \" initially \", text, flags=re.IGNORECASE)\n",
    "    text = re.sub(r\" quora \", \" Quora \", text, flags=re.IGNORECASE)\n",
    "    text = re.sub(r\" dms \", \" direct messages \", text, flags=re.IGNORECASE)  \n",
    "    text = re.sub(r\" demonitization \", \" demonetization \", text, flags=re.IGNORECASE) \n",
    "    text = re.sub(r\" actived \", \" active \", text, flags=re.IGNORECASE)\n",
    "    text = re.sub(r\" kms \", \" kilometers \", text, flags=re.IGNORECASE)\n",
    "    text = re.sub(r\" cs \", \" computer science \", text, flags=re.IGNORECASE) \n",
    "    text = re.sub(r\" upvote\", \" up vote\", text, flags=re.IGNORECASE)\n",
    "    text = re.sub(r\" iPhone \", \" phone \", text, flags=re.IGNORECASE)\n",
    "    text = re.sub(r\" \\0rs \", \" rs \", text, flags=re.IGNORECASE)\n",
    "    text = re.sub(r\" calender \", \" calendar \", text, flags=re.IGNORECASE)\n",
    "    text = re.sub(r\" ios \", \" operating system \", text, flags=re.IGNORECASE)\n",
    "    text = re.sub(r\" gps \", \" GPS \", text, flags=re.IGNORECASE)\n",
    "    text = re.sub(r\" gst \", \" GST \", text, flags=re.IGNORECASE)\n",
    "    text = re.sub(r\" programing \", \" programming \", text, flags=re.IGNORECASE)\n",
    "    text = re.sub(r\" bestfriend \", \" best friend \", text, flags=re.IGNORECASE)\n",
    "    text = re.sub(r\" dna \", \" DNA \", text, flags=re.IGNORECASE)\n",
    "    text = re.sub(r\" III \", \" 3 \", text)\n",
    "    text = re.sub(r\" banglore \", \" Banglore \", text, flags=re.IGNORECASE)\n",
    "    text = re.sub(r\" J K \", \" JK \", text, flags=re.IGNORECASE)\n",
    "    text = re.sub(r\" J\\.K\\. \", \" JK \", text, flags=re.IGNORECASE)\n",
    "    text = re.sub(\"\\'s\", \" \", text) # we have cases like \"Sam is\" or \"Sam's\" (i.e. his) these two cases aren't separable, I choose to compromise are kill \"'s\" directly\n",
    "    text = re.sub(\" whats \", \" what is \", text, flags=re.IGNORECASE) # replace whats by what is and ignore case\n",
    "    text = re.sub(\"\\'ve\", \" have \", text) # replace 've by have\n",
    "    text = re.sub(\"can't\", \"can not\", text) # replace can't by can not\n",
    "    text = re.sub(\"n't\", \" not \", text) # replace n't by not\n",
    "    text = re.sub(\"i'm\", \"i am\", text, flags=re.IGNORECASE) # replace i'm by i am and ignore case\n",
    "    text = re.sub(\"\\'re\", \" are \", text) # replace 're by are\n",
    "    text = re.sub(\"\\'d\", \" would \", text) # replace 'd by would\n",
    "    text = re.sub(\"\\'ll\", \" will \", text) # replace 'll by will\n",
    "    text = re.sub(\"e\\.g\\.\", \" eg \", text, flags=re.IGNORECASE) # replace e.g. by eg and ignore case\n",
    "    text = re.sub(\"b\\.g\\.\", \" bg \", text, flags=re.IGNORECASE) # replace b.g. by bg and ignore case\n",
    "    text = re.sub(\"(\\d+)(kK)\", \" \\g<1>000 \", text)\n",
    "    text = re.sub(\"e-mail\", \" email \", text, flags=re.IGNORECASE)\n",
    "    text = re.sub(\"\\(s\\)\", \" \", text, flags=re.IGNORECASE)\n",
    "    text = re.sub(\"[c-fC-F]\\:\\/\", \" disk \", text)\n",
    "    text = re.sub('\\$', \" dollar \", text)\n",
    "    text = re.sub('\\%', \" percent \", text)\n",
    "    text = re.sub('\\&', \" and \", text)\n",
    "    return text\n",
    "    \n",
    "merged_df_clean['text1'] = merged_df_clean['text1'].apply(clean_text)\n",
    "merged_df_clean['text2'] = merged_df_clean['text2'].apply(clean_text)"
   ],
   "outputs": [],
   "execution_count": 296
  },
  {
   "cell_type": "code",
   "id": "dnhrSI0of23K",
   "metadata": {
    "ExecuteTime": {
     "end_time": "2024-05-17T22:01:50.203592Z",
     "start_time": "2024-05-17T22:01:46.945952Z"
    }
   },
   "source": [
    "def clean_punctuation(str_text_raw):\n",
    "    str_text_raw = str_text_raw.lower()\n",
    "    str_text = re.sub(\"[$\\(\\)/|{|\\}#~\\[\\]^#;:!?%¿_,.'\\\"']\", \" \", str_text_raw)\n",
    "    return(re.sub(r'\\.{3}', \" \", str_text))\n",
    "merged_df_clean['text1'] = merged_df_clean['text1'].apply(clean_punctuation)\n",
    "merged_df_clean['text2'] = merged_df_clean['text2'].apply(clean_punctuation)"
   ],
   "outputs": [],
   "execution_count": 297
  },
  {
   "cell_type": "code",
   "id": "lOOpjXxmip8T",
   "metadata": {
    "ExecuteTime": {
     "end_time": "2024-05-17T22:01:53.027737Z",
     "start_time": "2024-05-17T22:01:50.205526Z"
    }
   },
   "source": [
    "merged_df_clean['text1'] = merged_df_clean['text1'].apply(lambda x: \" \".join(x.strip() for x in x.split()))\n",
    "merged_df_clean['text2'] = merged_df_clean['text2'].apply(lambda x: \" \".join(x.strip() for x in x.split()))"
   ],
   "outputs": [],
   "execution_count": 298
  },
  {
   "metadata": {
    "ExecuteTime": {
     "end_time": "2024-05-17T22:01:56.512753Z",
     "start_time": "2024-05-17T22:01:53.030643Z"
    }
   },
   "cell_type": "code",
   "source": [
    "# Load stop words\n",
    "stop_words = set(stopwords.words('english'))\n",
    "def remove_stop_words(text):\n",
    "    cleaned_text = \" \".join([word for word in text.split() if word not in stop_words])\n",
    "    return cleaned_text\n",
    "\n",
    "merged_df_clean['text1'] = merged_df_clean['text1'].apply(remove_stop_words)\n",
    "merged_df_clean['text2'] = merged_df_clean['text2'].apply(remove_stop_words)"
   ],
   "id": "f58d7933a6b0b01b",
   "outputs": [],
   "execution_count": 299
  },
  {
   "cell_type": "code",
   "id": "f3d7deee4d1fc932",
   "metadata": {
    "ExecuteTime": {
     "end_time": "2024-05-17T22:02:00.145604Z",
     "start_time": "2024-05-17T22:01:56.516715Z"
    }
   },
   "source": [
    "def remove_short_words(text):\n",
    "    pattern = r'\\b\\w{1,2}\\b'\n",
    "    return re.sub(pattern, '', text)\n",
    "\n",
    "merged_df_clean['text1'] = merged_df_clean['text1'].apply(remove_short_words)\n",
    "merged_df_clean['text2'] = merged_df_clean['text2'].apply(remove_short_words)"
   ],
   "outputs": [],
   "execution_count": 300
  },
  {
   "cell_type": "code",
   "id": "6ca7fb7d3f543dca",
   "metadata": {
    "ExecuteTime": {
     "end_time": "2024-05-17T22:02:02.163907Z",
     "start_time": "2024-05-17T22:02:00.148543Z"
    }
   },
   "source": [
    "merged_df_clean['text1'] = merged_df_clean['text1'].apply(lambda x: \" \".join(x.strip() for x in x.split()))\n",
    "merged_df_clean['text2'] = merged_df_clean['text2'].apply(lambda x: \" \".join(x.strip() for x in x.split()))\n",
    "\n",
    "merged_df_clean.head()"
   ],
   "outputs": [
    {
     "data": {
      "text/plain": [
       "                                               text1  \\\n",
       "0  religious fanatics deliberately creating tensi...   \n",
       "1                          best questions asked ever   \n",
       "2                   good ways run illegal poker room   \n",
       "3  computer science propose game idea major game ...   \n",
       "4  better india perspective donald trump hillary ...   \n",
       "\n",
       "                                               text2  \n",
       "0  children raised pure atheists contrary suscept...  \n",
       "1                          best questions ever asked  \n",
       "2                   difference poker room poker site  \n",
       "3                 pitch idea video game major studio  \n",
       "4      would better indian perspective trump hillary  "
      ],
      "text/html": [
       "<div>\n",
       "<style scoped>\n",
       "    .dataframe tbody tr th:only-of-type {\n",
       "        vertical-align: middle;\n",
       "    }\n",
       "\n",
       "    .dataframe tbody tr th {\n",
       "        vertical-align: top;\n",
       "    }\n",
       "\n",
       "    .dataframe thead th {\n",
       "        text-align: right;\n",
       "    }\n",
       "</style>\n",
       "<table border=\"1\" class=\"dataframe\">\n",
       "  <thead>\n",
       "    <tr style=\"text-align: right;\">\n",
       "      <th></th>\n",
       "      <th>text1</th>\n",
       "      <th>text2</th>\n",
       "    </tr>\n",
       "  </thead>\n",
       "  <tbody>\n",
       "    <tr>\n",
       "      <th>0</th>\n",
       "      <td>religious fanatics deliberately creating tensi...</td>\n",
       "      <td>children raised pure atheists contrary suscept...</td>\n",
       "    </tr>\n",
       "    <tr>\n",
       "      <th>1</th>\n",
       "      <td>best questions asked ever</td>\n",
       "      <td>best questions ever asked</td>\n",
       "    </tr>\n",
       "    <tr>\n",
       "      <th>2</th>\n",
       "      <td>good ways run illegal poker room</td>\n",
       "      <td>difference poker room poker site</td>\n",
       "    </tr>\n",
       "    <tr>\n",
       "      <th>3</th>\n",
       "      <td>computer science propose game idea major game ...</td>\n",
       "      <td>pitch idea video game major studio</td>\n",
       "    </tr>\n",
       "    <tr>\n",
       "      <th>4</th>\n",
       "      <td>better india perspective donald trump hillary ...</td>\n",
       "      <td>would better indian perspective trump hillary</td>\n",
       "    </tr>\n",
       "  </tbody>\n",
       "</table>\n",
       "</div>"
      ]
     },
     "execution_count": 301,
     "metadata": {},
     "output_type": "execute_result"
    }
   ],
   "execution_count": 301
  },
  {
   "cell_type": "code",
   "id": "5a1b70cf1908308a",
   "metadata": {
    "ExecuteTime": {
     "end_time": "2024-05-17T22:02:02.179907Z",
     "start_time": "2024-05-17T22:02:02.165901Z"
    }
   },
   "source": [
    "def stemming(words):\n",
    "    ps = PorterStemmer() \n",
    "    stem= []\n",
    "    for w in words:\n",
    "        stem.append(ps.stem(w))\n",
    "    return stem \n",
    "\n",
    "def tokenizer(words):\n",
    "    tokenizer = RegexpTokenizer(r'\\w+')\n",
    "    words= tokenizer.tokenize(words)\n",
    "    return words\n",
    "\n",
    "def lemmatization(words):\n",
    "    wnetlemmatizer =  WordNetLemmatizer()\n",
    "    \n",
    "    lemmatized = []\n",
    "    for w in words:\n",
    "        lemmatized.append(wnetlemmatizer.lemmatize(w))\n",
    "    return lemmatized "
   ],
   "outputs": [],
   "execution_count": 302
  },
  {
   "cell_type": "code",
   "id": "5fca1258af7ce016",
   "metadata": {
    "ExecuteTime": {
     "end_time": "2024-05-17T22:02:06.519318Z",
     "start_time": "2024-05-17T22:02:02.182856Z"
    }
   },
   "source": [
    "merged_df_clean['text1'] = merged_df_clean['text1'].apply(tokenizer)\n",
    "merged_df_clean['text2'] = merged_df_clean['text2'].apply(tokenizer)\n",
    "\n",
    "merged_df_clean.head()"
   ],
   "outputs": [
    {
     "data": {
      "text/plain": [
       "                                               text1  \\\n",
       "0  [religious, fanatics, deliberately, creating, ...   \n",
       "1                     [best, questions, asked, ever]   \n",
       "2            [good, ways, run, illegal, poker, room]   \n",
       "3  [computer, science, propose, game, idea, major...   \n",
       "4  [better, india, perspective, donald, trump, hi...   \n",
       "\n",
       "                                               text2  \n",
       "0  [children, raised, pure, atheists, contrary, s...  \n",
       "1                     [best, questions, ever, asked]  \n",
       "2             [difference, poker, room, poker, site]  \n",
       "3          [pitch, idea, video, game, major, studio]  \n",
       "4  [would, better, indian, perspective, trump, hi...  "
      ],
      "text/html": [
       "<div>\n",
       "<style scoped>\n",
       "    .dataframe tbody tr th:only-of-type {\n",
       "        vertical-align: middle;\n",
       "    }\n",
       "\n",
       "    .dataframe tbody tr th {\n",
       "        vertical-align: top;\n",
       "    }\n",
       "\n",
       "    .dataframe thead th {\n",
       "        text-align: right;\n",
       "    }\n",
       "</style>\n",
       "<table border=\"1\" class=\"dataframe\">\n",
       "  <thead>\n",
       "    <tr style=\"text-align: right;\">\n",
       "      <th></th>\n",
       "      <th>text1</th>\n",
       "      <th>text2</th>\n",
       "    </tr>\n",
       "  </thead>\n",
       "  <tbody>\n",
       "    <tr>\n",
       "      <th>0</th>\n",
       "      <td>[religious, fanatics, deliberately, creating, ...</td>\n",
       "      <td>[children, raised, pure, atheists, contrary, s...</td>\n",
       "    </tr>\n",
       "    <tr>\n",
       "      <th>1</th>\n",
       "      <td>[best, questions, asked, ever]</td>\n",
       "      <td>[best, questions, ever, asked]</td>\n",
       "    </tr>\n",
       "    <tr>\n",
       "      <th>2</th>\n",
       "      <td>[good, ways, run, illegal, poker, room]</td>\n",
       "      <td>[difference, poker, room, poker, site]</td>\n",
       "    </tr>\n",
       "    <tr>\n",
       "      <th>3</th>\n",
       "      <td>[computer, science, propose, game, idea, major...</td>\n",
       "      <td>[pitch, idea, video, game, major, studio]</td>\n",
       "    </tr>\n",
       "    <tr>\n",
       "      <th>4</th>\n",
       "      <td>[better, india, perspective, donald, trump, hi...</td>\n",
       "      <td>[would, better, indian, perspective, trump, hi...</td>\n",
       "    </tr>\n",
       "  </tbody>\n",
       "</table>\n",
       "</div>"
      ]
     },
     "execution_count": 303,
     "metadata": {},
     "output_type": "execute_result"
    }
   ],
   "execution_count": 303
  },
  {
   "cell_type": "code",
   "id": "77b0d5d3c7387077",
   "metadata": {
    "ExecuteTime": {
     "end_time": "2024-05-17T22:04:54.748296Z",
     "start_time": "2024-05-17T22:02:06.526282Z"
    }
   },
   "source": [
    "merged_df_clean['text1'] = merged_df_clean['text1'].apply(stemming)\n",
    "merged_df_clean['text2'] = merged_df_clean['text2'].apply(stemming)\n",
    "\n",
    "merged_df_clean.head()"
   ],
   "outputs": [
    {
     "data": {
      "text/plain": [
       "                                               text1  \\\n",
       "0  [religi, fanat, deliber, creat, tension, world...   \n",
       "1                        [best, question, ask, ever]   \n",
       "2               [good, way, run, illeg, poker, room]   \n",
       "3  [comput, scienc, propos, game, idea, major, ga...   \n",
       "4  [better, india, perspect, donald, trump, hilla...   \n",
       "\n",
       "                                               text2  \n",
       "0  [children, rais, pure, atheist, contrari, susc...  \n",
       "1                        [best, question, ever, ask]  \n",
       "2                 [differ, poker, room, poker, site]  \n",
       "3          [pitch, idea, video, game, major, studio]  \n",
       "4  [would, better, indian, perspect, trump, hillari]  "
      ],
      "text/html": [
       "<div>\n",
       "<style scoped>\n",
       "    .dataframe tbody tr th:only-of-type {\n",
       "        vertical-align: middle;\n",
       "    }\n",
       "\n",
       "    .dataframe tbody tr th {\n",
       "        vertical-align: top;\n",
       "    }\n",
       "\n",
       "    .dataframe thead th {\n",
       "        text-align: right;\n",
       "    }\n",
       "</style>\n",
       "<table border=\"1\" class=\"dataframe\">\n",
       "  <thead>\n",
       "    <tr style=\"text-align: right;\">\n",
       "      <th></th>\n",
       "      <th>text1</th>\n",
       "      <th>text2</th>\n",
       "    </tr>\n",
       "  </thead>\n",
       "  <tbody>\n",
       "    <tr>\n",
       "      <th>0</th>\n",
       "      <td>[religi, fanat, deliber, creat, tension, world...</td>\n",
       "      <td>[children, rais, pure, atheist, contrari, susc...</td>\n",
       "    </tr>\n",
       "    <tr>\n",
       "      <th>1</th>\n",
       "      <td>[best, question, ask, ever]</td>\n",
       "      <td>[best, question, ever, ask]</td>\n",
       "    </tr>\n",
       "    <tr>\n",
       "      <th>2</th>\n",
       "      <td>[good, way, run, illeg, poker, room]</td>\n",
       "      <td>[differ, poker, room, poker, site]</td>\n",
       "    </tr>\n",
       "    <tr>\n",
       "      <th>3</th>\n",
       "      <td>[comput, scienc, propos, game, idea, major, ga...</td>\n",
       "      <td>[pitch, idea, video, game, major, studio]</td>\n",
       "    </tr>\n",
       "    <tr>\n",
       "      <th>4</th>\n",
       "      <td>[better, india, perspect, donald, trump, hilla...</td>\n",
       "      <td>[would, better, indian, perspect, trump, hillari]</td>\n",
       "    </tr>\n",
       "  </tbody>\n",
       "</table>\n",
       "</div>"
      ]
     },
     "execution_count": 304,
     "metadata": {},
     "output_type": "execute_result"
    }
   ],
   "execution_count": 304
  },
  {
   "cell_type": "code",
   "id": "787dd3fa03a4d6de",
   "metadata": {
    "ExecuteTime": {
     "end_time": "2024-05-17T22:05:18.965861Z",
     "start_time": "2024-05-17T22:04:54.754295Z"
    }
   },
   "source": [
    "merged_df_clean['text1'] = merged_df_clean['text1'].apply(lemmatization)\n",
    "merged_df_clean['text2'] = merged_df_clean['text2'].apply(lemmatization)"
   ],
   "outputs": [],
   "execution_count": 305
  },
  {
   "cell_type": "code",
   "id": "c6151d26c6cd1967",
   "metadata": {
    "ExecuteTime": {
     "end_time": "2024-05-17T22:05:57.784994Z",
     "start_time": "2024-05-17T22:05:18.968848Z"
    }
   },
   "source": [
    "cleaned_final_lst_text1 = merged_df_clean['text1']\n",
    "cleaned_final_lst_text2 = merged_df_clean['text2']\n",
    "cleaned_final_vector_text1 = vectorizer(cleaned_final_lst_text1, wv)\n",
    "cleaned_final_vector_text2 = vectorizer(cleaned_final_lst_text2, wv)"
   ],
   "outputs": [],
   "execution_count": 306
  },
  {
   "cell_type": "code",
   "id": "_BHfGN-fqyJu",
   "metadata": {
    "id": "_BHfGN-fqyJu",
    "ExecuteTime": {
     "end_time": "2024-05-17T22:06:08.357400Z",
     "start_time": "2024-05-17T22:05:57.787994Z"
    }
   },
   "source": [
    "X = np.concatenate((cleaned_final_vector_text1, cleaned_final_vector_text2), axis=1)\n",
    "y = merged_df['is_duplicate']  \n",
    "\n",
    "X_train, X_test, y_train, y_test = train_test_split(X, y, test_size=0.3, random_state=42)"
   ],
   "outputs": [],
   "execution_count": 307
  },
  {
   "metadata": {
    "ExecuteTime": {
     "end_time": "2024-05-17T22:06:08.536734Z",
     "start_time": "2024-05-17T22:06:08.453735Z"
    }
   },
   "cell_type": "code",
   "source": "results = {}",
   "id": "d29e2d7fcc97dfb3",
   "outputs": [],
   "execution_count": 308
  },
  {
   "metadata": {
    "ExecuteTime": {
     "end_time": "2024-05-17T22:06:27.681437Z",
     "start_time": "2024-05-17T22:06:08.552735Z"
    }
   },
   "cell_type": "code",
   "source": [
    "log_model = LogisticRegression(random_state=42, max_iter=100)\n",
    "log_model.fit(X_train, y_train)\n",
    "log_prediction = log_model.predict(X_test)\n",
    "results[\"log_model\"] = {\n",
    "        'accuracy': accuracy_score(y_test, log_prediction),\n",
    "        'precision': precision_score(y_test, log_prediction),\n",
    "        'recall': recall_score(y_test, log_prediction),\n",
    "        'f1': f1_score(y_test, log_prediction)\n",
    "    }"
   ],
   "id": "91b5bbc58240c294",
   "outputs": [],
   "execution_count": 309
  },
  {
   "metadata": {
    "ExecuteTime": {
     "end_time": "2024-05-17T22:51:37.194510Z",
     "start_time": "2024-05-17T22:06:27.688433Z"
    }
   },
   "cell_type": "code",
   "source": [
    "rf_model = RandomForestClassifier(random_state=42)\n",
    "rf_model.fit(X_train, y_train)\n",
    "rf_prediction = rf_model.predict(X_test)\n",
    "results[\"rf_model\"] = {\n",
    "    'accuracy': accuracy_score(y_test, rf_prediction),\n",
    "    'precision': precision_score(y_test, rf_prediction),\n",
    "    'recall': recall_score(y_test, rf_prediction),\n",
    "    'f1': f1_score(y_test, rf_prediction)\n",
    "}"
   ],
   "id": "4481c4b39d92cb57",
   "outputs": [],
   "execution_count": 310
  },
  {
   "metadata": {
    "ExecuteTime": {
     "end_time": "2024-05-17T22:52:35.119997Z",
     "start_time": "2024-05-17T22:51:37.232509Z"
    }
   },
   "cell_type": "code",
   "source": [
    "xgb_model = xgb.XGBClassifier(max_depth=10, n_estimators=15, learning_rate=0.1, colsample_bytree=0.8, gamma=0, reg_alpha=4, objective='binary:logistic', eta=0.3, silent=1, subsample=0.8)\n",
    "xgb_model.fit(X_train, y_train)\n",
    "xgb_prediction = xgb_model.predict(X_test)\n",
    "results[\"xgb_model\"] = {\n",
    "        'accuracy': accuracy_score(y_test, xgb_prediction),\n",
    "        'precision': precision_score(y_test, xgb_prediction),\n",
    "        'recall': recall_score(y_test, xgb_prediction),\n",
    "        'f1': f1_score(y_test, xgb_prediction)\n",
    "    }"
   ],
   "id": "53ac4a17da87963f",
   "outputs": [],
   "execution_count": 311
  },
  {
   "metadata": {
    "ExecuteTime": {
     "end_time": "2024-05-17T22:52:35.210003Z",
     "start_time": "2024-05-17T22:52:35.149997Z"
    }
   },
   "cell_type": "code",
   "source": [
    "for model_name, metrics in results.items():\n",
    "    print(f\"Model: {model_name}\")\n",
    "    for metric_name, value in metrics.items():\n",
    "        print(f\"{metric_name}: {value}\")\n",
    "    print()"
   ],
   "id": "79469d1cd2c92fe7",
   "outputs": [
    {
     "name": "stdout",
     "output_type": "stream",
     "text": [
      "Model: log_model\n",
      "accuracy: 0.6881774846545644\n",
      "precision: 0.6482935003086692\n",
      "recall: 0.32723468660968663\n",
      "f1: 0.43493181078602494\n",
      "\n",
      "Model: rf_model\n",
      "accuracy: 0.7832620477993992\n",
      "precision: 0.8421405429560943\n",
      "recall: 0.5033386752136753\n",
      "f1: 0.6300831696409914\n",
      "\n",
      "Model: xgb_model\n",
      "accuracy: 0.7242800705237038\n",
      "precision: 0.7915076086388119\n",
      "recall: 0.3368945868945869\n",
      "f1: 0.47262337824546063\n",
      "\n"
     ]
    }
   ],
   "execution_count": 312
  },
  {
   "metadata": {},
   "cell_type": "markdown",
   "source": "## CREATING PIPELINE AND FINAL SYSTEM",
   "id": "3829f39e28bac2f0"
  },
  {
   "metadata": {},
   "cell_type": "markdown",
   "source": "The function text_preprocessing performs a series of text cleaning and normalization steps on the input text. These steps include removing numbers, cleaning text by removing unnecessary characters, cleaning punctuation marks, removing stop words, removing short words, tokenizing the text, stemming, and lemmatization. The function aims to prepare the text data for further analysis or modeling by standardizing its format and reducing noise or irrelevant information.",
   "id": "bfd006a4259f2c10"
  },
  {
   "metadata": {
    "ExecuteTime": {
     "end_time": "2024-05-18T00:45:21.770366Z",
     "start_time": "2024-05-18T00:45:21.740277Z"
    }
   },
   "cell_type": "code",
   "source": [
    "def text_preprocessing(text):\n",
    "    text = remove_numbers(text)\n",
    "    text = clean_text(text)\n",
    "    text = clean_punctuation(text)\n",
    "    text = \" \".join(x.strip() for x in text.split())\n",
    "    text = remove_stop_words(text)\n",
    "    text =  remove_short_words(text)\n",
    "    text = \" \".join(x.strip() for x in text.split())\n",
    "    text = tokenizer(text)\n",
    "    text = stemming(text)\n",
    "    text = lemmatization(text)\n",
    "    return text"
   ],
   "id": "441e07411fd993d5",
   "outputs": [],
   "execution_count": 318
  },
  {
   "metadata": {
    "ExecuteTime": {
     "end_time": "2024-05-18T00:45:22.284765Z",
     "start_time": "2024-05-18T00:45:22.259312Z"
    }
   },
   "cell_type": "code",
   "source": [
    "faq = {\n",
    "    \"What is the weather today?\": \"Today's weather is partly cloudy with a high of 23°C.\",\n",
    "    \"What time does the store close?\": \"The store closes at 9:00 PM on weekdays and 6:00 PM on weekends.\",\n",
    "    \"How can I contact customer support?\": \"You can contact customer support by calling our toll-free number at 1-800-XXX-XXXX or by emailing support@example.com.\",\n",
    "    \"What are the accepted payment methods?\": \"We accept Visa, Mastercard, American Express, and PayPal as payment methods.\",\n",
    "    \"How do I return an item?\": \"To return an item, log in to your account, go to the 'Orders' section, and select the item you want to return. Follow the instructions to initiate the return process.\",\n",
    "    \"Is there a warranty on your products?\": \"Yes, all our products come with a standard one-year warranty.\",\n",
    "    \"Do you offer international shipping?\": \"Yes, we offer international shipping to most countries. Shipping costs and delivery times may vary depending on the destination.\",\n",
    "    \"What are your store hours?\": \"Our store is open from 9:00 AM to 9:00 PM every day except Sundays, when we close at 6:00 PM.\",\n",
    "}"
   ],
   "id": "e1ea05010debd189",
   "outputs": [],
   "execution_count": 319
  },
  {
   "metadata": {},
   "cell_type": "markdown",
   "source": [
    "Firstly, a TextProcessor class was implemented to clean and process the text. This class removes numbers, punctuation, and stop words, and performs tokenization, stemming, and lemmatization to ensure the text is in its most usable form. Following this, a Vectorizer class was created to transform the preprocessed text into numerical vectors using a pre-trained word vector model. This vectorization process allows the model to effectively handle text data by converting it into a numerical format.\n",
    "\n",
    "The pipeline then incorporates the random forest model, which was pre-trained and does not require further training within the pipeline. This model predicts the similarity between the user question and the FAQ entries. The construction of the pipeline was achieved using the Pipeline class from sklearn, combining the TextProcessor, Vectorizer, and random forest model into a seamless process.\n",
    "\n",
    "Upon receiving a user question, the pipeline preprocesses and vectorizes it, concatenates it with each FAQ entry, and predicts the probability of similarity. The FAQ entry with the highest similarity score is then selected as the most relevant answer. This systematic approach ensures that user questions are matched accurately and efficiently with the appropriate FAQ entries, thereby enhancing the user experience by providing precise and relevant answers.\n"
   ],
   "id": "e95f242c41915e51"
  },
  {
   "metadata": {
    "ExecuteTime": {
     "end_time": "2024-05-17T23:24:05.396966Z",
     "start_time": "2024-05-17T23:24:02.281812Z"
    }
   },
   "cell_type": "code",
   "source": [
    "from sklearn.pipeline import Pipeline\n",
    "from sklearn.base import BaseEstimator, TransformerMixin\n",
    "\n",
    "class TextProcessor(BaseEstimator, TransformerMixin):\n",
    "    def fit(self, X, y=None):\n",
    "        return self\n",
    "    \n",
    "    def transform(self, X, y=None):\n",
    "        return [text_preprocessing(text) for text in X]\n",
    "    \n",
    "class Vectorizer(BaseEstimator, TransformerMixin):\n",
    "    def __init__(self, wv):\n",
    "        self.wv = wv\n",
    "    \n",
    "    def fit(self, X, y=None):\n",
    "        return self\n",
    "    \n",
    "    def transform(self, X, y=None):\n",
    "        return vectorizer(X, self.wv)\n",
    "\n",
    "\n",
    "pipeline = Pipeline([\n",
    "    ('text_processor', TextProcessor()),\n",
    "    ('vectorizer', Vectorizer(wv)),\n",
    "])\n",
    "\n",
    "user_question = input(\"How can I help you?\")\n",
    "\n",
    "processed_user_question = pipeline.fit_transform([user_question])\n",
    "processed_faq_questions = pipeline.fit_transform(list(faq.keys()))\n",
    "\n",
    "\n",
    "concat_arr = []\n",
    "for vectorized_question in processed_faq_questions:\n",
    "    concat = np.concatenate((vectorized_question, processed_user_question[0]), axis=0).reshape(1, -1)\n",
    "    concat_arr.append(concat)\n",
    "\n",
    "probs = [rf_model.predict_proba(concat)[0][1] for concat in concat_arr]\n",
    "max_prob = max(probs)\n",
    "if max_prob > 0.4:\n",
    "    max_index = np.argmax(probs)\n",
    "\n",
    "    related_question = list(faq.keys())[max_index]\n",
    "    related_answer = faq[related_question]\n",
    "\n",
    "    print(\"Related Question:\", related_question)\n",
    "    print(\"Related Answer:\", related_answer)\n",
    "else:\n",
    "    print(\"Sorry, I don't know the answer to your question.\")"
   ],
   "id": "d5c17ce3bf66a4f5",
   "outputs": [
    {
     "name": "stdout",
     "output_type": "stream",
     "text": [
      "Related Question: What is the weather today?\n",
      "Related Answer: Today's weather is partly cloudy with a high of 23°C.\n"
     ]
    }
   ],
   "execution_count": 315
  },
  {
   "metadata": {},
   "cell_type": "markdown",
   "source": "##### Some Examples",
   "id": "92f071436237b481"
  },
  {
   "metadata": {
    "ExecuteTime": {
     "end_time": "2024-05-18T00:46:21.530445Z",
     "start_time": "2024-05-18T00:46:21.408447Z"
    }
   },
   "cell_type": "code",
   "source": [
    "user_question = \"How is the weather today?\"\n",
    "\n",
    "processed_user_question = pipeline.fit_transform([user_question])\n",
    "processed_faq_questions = pipeline.fit_transform(list(faq.keys()))\n",
    "\n",
    "\n",
    "concat_arr = []\n",
    "for vectorized_question in processed_faq_questions:\n",
    "    concat = np.concatenate((vectorized_question, processed_user_question[0]), axis=0).reshape(1, -1)\n",
    "    concat_arr.append(concat)\n",
    "\n",
    "probs = [rf_model.predict_proba(concat)[0][1] for concat in concat_arr]\n",
    "max_prob = max(probs)\n",
    "if max_prob > 0.5:\n",
    "    max_index = np.argmax(probs)\n",
    "\n",
    "    related_question = list(faq.keys())[max_index]\n",
    "    related_answer = faq[related_question]\n",
    "\n",
    "    print(\"Related Question:\", related_question)\n",
    "    print(\"Related Answer:\", related_answer)\n",
    "else:\n",
    "    print(\"Sorry, I don't know the answer to your question.\")"
   ],
   "id": "472fea0d753ec840",
   "outputs": [
    {
     "name": "stdout",
     "output_type": "stream",
     "text": [
      "Related Question: What is the weather today?\n",
      "Related Answer: Today's weather is partly cloudy with a high of 23°C.\n"
     ]
    }
   ],
   "execution_count": 322
  },
  {
   "metadata": {
    "ExecuteTime": {
     "end_time": "2024-05-18T00:46:48.166778Z",
     "start_time": "2024-05-18T00:46:48.094777Z"
    }
   },
   "cell_type": "code",
   "source": [
    "user_question = \"I want a red dress, could you help me?\"\n",
    "\n",
    "processed_user_question = pipeline.fit_transform([user_question])\n",
    "processed_faq_questions = pipeline.fit_transform(list(faq.keys()))\n",
    "\n",
    "\n",
    "concat_arr = []\n",
    "for vectorized_question in processed_faq_questions:\n",
    "    concat = np.concatenate((vectorized_question, processed_user_question[0]), axis=0).reshape(1, -1)\n",
    "    concat_arr.append(concat)\n",
    "\n",
    "probs = [rf_model.predict_proba(concat)[0][1] for concat in concat_arr]\n",
    "max_prob = max(probs)\n",
    "if max_prob > 0.5:\n",
    "    max_index = np.argmax(probs)\n",
    "\n",
    "    related_question = list(faq.keys())[max_index]\n",
    "    related_answer = faq[related_question]\n",
    "\n",
    "    print(\"Related Question:\", related_question)\n",
    "    print(\"Related Answer:\", related_answer)\n",
    "else:\n",
    "    print(\"Sorry, I don't know the answer to your question.\")"
   ],
   "id": "db691ae4ca43479d",
   "outputs": [
    {
     "name": "stdout",
     "output_type": "stream",
     "text": [
      "Sorry, I don't know the answer to your question.\n"
     ]
    }
   ],
   "execution_count": 325
  },
  {
   "metadata": {
    "ExecuteTime": {
     "end_time": "2024-05-18T01:03:51.642598Z",
     "start_time": "2024-05-18T01:03:51.503518Z"
    }
   },
   "cell_type": "code",
   "source": [
    "user_question =\"Is there an offer for international shipping?\"\n",
    "\n",
    "processed_user_question = pipeline.fit_transform([user_question])\n",
    "processed_faq_questions = pipeline.fit_transform(list(faq.keys()))\n",
    "\n",
    "\n",
    "concat_arr = []\n",
    "for vectorized_question in processed_faq_questions:\n",
    "    concat = np.concatenate((vectorized_question, processed_user_question[0]), axis=0).reshape(1, -1)\n",
    "    concat_arr.append(concat)\n",
    "\n",
    "probs = [rf_model.predict_proba(concat)[0][1] for concat in concat_arr]\n",
    "max_prob = max(probs)\n",
    "if max_prob > 0.4:\n",
    "    max_index = np.argmax(probs)\n",
    "\n",
    "    related_question = list(faq.keys())[max_index]\n",
    "    related_answer = faq[related_question]\n",
    "\n",
    "    print(\"Related Question:\", related_question)\n",
    "    print(\"Related Answer:\", related_answer)\n",
    "else:\n",
    "    print(\"Sorry, I don't know the answer to your question.\")"
   ],
   "id": "71931ee4719a27cf",
   "outputs": [
    {
     "name": "stdout",
     "output_type": "stream",
     "text": [
      "Related Question: Do you offer international shipping?\n",
      "Related Answer: Yes, we offer international shipping to most countries. Shipping costs and delivery times may vary depending on the destination.\n"
     ]
    }
   ],
   "execution_count": 367
  },
  {
   "metadata": {},
   "cell_type": "markdown",
   "source": [
    "CONCLUSION\n",
    "\n",
    "The results obtained from the experiments provide valuable insights into the effectiveness of various vectorization methods and similarity metrics for question matching tasks. Through systematic evaluation, optimal approaches that enhance the accuracy of question matching processes have been identified.\n",
    "\n",
    "Discussion of Results\n",
    "\n",
    "Promising outcomes have been revealed by the experiments, demonstrating the potential of employing advanced NLP techniques to improve the precision of question matching models. Different vectorization methods and similarity metrics were explored, leading to a comprehensive understanding of their impact on model performance. Superior performance was observed in certain techniques, contributing to the accurate identification of duplicate questions and thereby enhancing the overall effectiveness of the approach.\n",
    "\n",
    "Limitations of the Work\n",
    "\n",
    "Despite the promising results, several limitations were identified in the study. Suboptimal accuracy and precision values were exhibited by the random forest model, indicating the need for further refinement and optimization of the model architecture. Additionally, the inclusion of the second dataset containing normal text data, while aimed at diversifying the training data, may not fully capture the intricacies of question-based datasets. Moreover, the limited size of the added dataset may have constrained the model's ability to generalize effectively.\n",
    "\n",
    "Future Work\n",
    "\n",
    "Hyperparameter tuning was not conducted in this study, as the focus was solely on observing the impact of NLP techniques. However, it can be considered for future efforts aimed at improving model performance. Future research directions may involve refining the performance of the random forest model through fine-tuning and exploring alternative model architectures. Improving the model's generalization capabilities could be pursued by acquiring a larger and more comprehensive dataset primarily consisting of question data. Additionally, further investigation into additional NLP techniques and the integration of advanced neural network architectures may be conducted to enhance the accuracy and robustness of question matching models. Addressing these limitations and exploring novel methodologies will contribute to advancing question matching techniques in natural language processing.\n"
   ],
   "id": "47903a42769f7099"
  },
  {
   "metadata": {},
   "cell_type": "code",
   "outputs": [],
   "execution_count": null,
   "source": "",
   "id": "a1c9b222747817a5"
  }
 ],
 "metadata": {
  "accelerator": "GPU",
  "colab": {
   "gpuType": "T4",
   "provenance": []
  },
  "kernelspec": {
   "display_name": "Python 3 (ipykernel)",
   "language": "python",
   "name": "python3"
  },
  "language_info": {
   "codemirror_mode": {
    "name": "ipython",
    "version": 3
   },
   "file_extension": ".py",
   "mimetype": "text/x-python",
   "name": "python",
   "nbconvert_exporter": "python",
   "pygments_lexer": "ipython3",
   "version": "3.10.13"
  },
  "widgets": {
   "application/vnd.jupyter.widget-state+json": {
    "00a85c4e9431469384bdbb770b0bbf5b": {
     "model_module": "@jupyter-widgets/controls",
     "model_module_version": "1.5.0",
     "model_name": "HTMLModel",
     "state": {
      "_dom_classes": [],
      "_model_module": "@jupyter-widgets/controls",
      "_model_module_version": "1.5.0",
      "_model_name": "HTMLModel",
      "_view_count": null,
      "_view_module": "@jupyter-widgets/controls",
      "_view_module_version": "1.5.0",
      "_view_name": "HTMLView",
      "description": "",
      "description_tooltip": null,
      "layout": "IPY_MODEL_9c34d947313346189c1cf30e9044851b",
      "placeholder": "​",
      "style": "IPY_MODEL_4cd0d42bb6ad45e0b837120fa25083b3",
      "value": " 18390/18390 [00:02&lt;00:00, 8783.56it/s]"
     }
    },
    "08355f8444ef4631a1c22947f3699575": {
     "model_module": "@jupyter-widgets/base",
     "model_module_version": "1.2.0",
     "model_name": "LayoutModel",
     "state": {
      "_model_module": "@jupyter-widgets/base",
      "_model_module_version": "1.2.0",
      "_model_name": "LayoutModel",
      "_view_count": null,
      "_view_module": "@jupyter-widgets/base",
      "_view_module_version": "1.2.0",
      "_view_name": "LayoutView",
      "align_content": null,
      "align_items": null,
      "align_self": null,
      "border": null,
      "bottom": null,
      "display": null,
      "flex": null,
      "flex_flow": null,
      "grid_area": null,
      "grid_auto_columns": null,
      "grid_auto_flow": null,
      "grid_auto_rows": null,
      "grid_column": null,
      "grid_gap": null,
      "grid_row": null,
      "grid_template_areas": null,
      "grid_template_columns": null,
      "grid_template_rows": null,
      "height": null,
      "justify_content": null,
      "justify_items": null,
      "left": null,
      "margin": null,
      "max_height": null,
      "max_width": null,
      "min_height": null,
      "min_width": null,
      "object_fit": null,
      "object_position": null,
      "order": null,
      "overflow": null,
      "overflow_x": null,
      "overflow_y": null,
      "padding": null,
      "right": null,
      "top": null,
      "visibility": null,
      "width": null
     }
    },
    "15bf32c8ea8e4334b0c80c572c87ef81": {
     "model_module": "@jupyter-widgets/controls",
     "model_module_version": "1.5.0",
     "model_name": "FloatProgressModel",
     "state": {
      "_dom_classes": [],
      "_model_module": "@jupyter-widgets/controls",
      "_model_module_version": "1.5.0",
      "_model_name": "FloatProgressModel",
      "_view_count": null,
      "_view_module": "@jupyter-widgets/controls",
      "_view_module_version": "1.5.0",
      "_view_name": "ProgressView",
      "bar_style": "success",
      "description": "",
      "description_tooltip": null,
      "layout": "IPY_MODEL_bec2579d61014b0da08354445350aaaa",
      "max": 18390,
      "min": 0,
      "orientation": "horizontal",
      "style": "IPY_MODEL_1c47335e8e2a4d9980b0d44e8a75468f",
      "value": 18390
     }
    },
    "1c47335e8e2a4d9980b0d44e8a75468f": {
     "model_module": "@jupyter-widgets/controls",
     "model_module_version": "1.5.0",
     "model_name": "ProgressStyleModel",
     "state": {
      "_model_module": "@jupyter-widgets/controls",
      "_model_module_version": "1.5.0",
      "_model_name": "ProgressStyleModel",
      "_view_count": null,
      "_view_module": "@jupyter-widgets/base",
      "_view_module_version": "1.2.0",
      "_view_name": "StyleView",
      "bar_color": null,
      "description_width": ""
     }
    },
    "22464ad7bad04266b11ab0301393e555": {
     "model_module": "@jupyter-widgets/controls",
     "model_module_version": "1.5.0",
     "model_name": "DescriptionStyleModel",
     "state": {
      "_model_module": "@jupyter-widgets/controls",
      "_model_module_version": "1.5.0",
      "_model_name": "DescriptionStyleModel",
      "_view_count": null,
      "_view_module": "@jupyter-widgets/base",
      "_view_module_version": "1.2.0",
      "_view_name": "StyleView",
      "description_width": ""
     }
    },
    "27b2440aeddc45119811f456ccdcf671": {
     "model_module": "@jupyter-widgets/base",
     "model_module_version": "1.2.0",
     "model_name": "LayoutModel",
     "state": {
      "_model_module": "@jupyter-widgets/base",
      "_model_module_version": "1.2.0",
      "_model_name": "LayoutModel",
      "_view_count": null,
      "_view_module": "@jupyter-widgets/base",
      "_view_module_version": "1.2.0",
      "_view_name": "LayoutView",
      "align_content": null,
      "align_items": null,
      "align_self": null,
      "border": null,
      "bottom": null,
      "display": null,
      "flex": null,
      "flex_flow": null,
      "grid_area": null,
      "grid_auto_columns": null,
      "grid_auto_flow": null,
      "grid_auto_rows": null,
      "grid_column": null,
      "grid_gap": null,
      "grid_row": null,
      "grid_template_areas": null,
      "grid_template_columns": null,
      "grid_template_rows": null,
      "height": null,
      "justify_content": null,
      "justify_items": null,
      "left": null,
      "margin": null,
      "max_height": null,
      "max_width": null,
      "min_height": null,
      "min_width": null,
      "object_fit": null,
      "object_position": null,
      "order": null,
      "overflow": null,
      "overflow_x": null,
      "overflow_y": null,
      "padding": null,
      "right": null,
      "top": null,
      "visibility": null,
      "width": null
     }
    },
    "2e22b0be537142fa9d091b21d3119f43": {
     "model_module": "@jupyter-widgets/controls",
     "model_module_version": "1.5.0",
     "model_name": "HTMLModel",
     "state": {
      "_dom_classes": [],
      "_model_module": "@jupyter-widgets/controls",
      "_model_module_version": "1.5.0",
      "_model_name": "HTMLModel",
      "_view_count": null,
      "_view_module": "@jupyter-widgets/controls",
      "_view_module_version": "1.5.0",
      "_view_name": "HTMLView",
      "description": "",
      "description_tooltip": null,
      "layout": "IPY_MODEL_27b2440aeddc45119811f456ccdcf671",
      "placeholder": "​",
      "style": "IPY_MODEL_eb9accfc0f3642a3ba8def28c7bab798",
      "value": "100%"
     }
    },
    "3630c1a0fff14d6c836994111a16151e": {
     "model_module": "@jupyter-widgets/controls",
     "model_module_version": "1.5.0",
     "model_name": "DescriptionStyleModel",
     "state": {
      "_model_module": "@jupyter-widgets/controls",
      "_model_module_version": "1.5.0",
      "_model_name": "DescriptionStyleModel",
      "_view_count": null,
      "_view_module": "@jupyter-widgets/base",
      "_view_module_version": "1.2.0",
      "_view_name": "StyleView",
      "description_width": ""
     }
    },
    "4955437a41f242499dae431767f6c029": {
     "model_module": "@jupyter-widgets/controls",
     "model_module_version": "1.5.0",
     "model_name": "HTMLModel",
     "state": {
      "_dom_classes": [],
      "_model_module": "@jupyter-widgets/controls",
      "_model_module_version": "1.5.0",
      "_model_name": "HTMLModel",
      "_view_count": null,
      "_view_module": "@jupyter-widgets/controls",
      "_view_module_version": "1.5.0",
      "_view_name": "HTMLView",
      "description": "",
      "description_tooltip": null,
      "layout": "IPY_MODEL_d4b83ff1a33d41e0ac7211571e070057",
      "placeholder": "​",
      "style": "IPY_MODEL_3630c1a0fff14d6c836994111a16151e",
      "value": "100%"
     }
    },
    "4a07e60d8068479b84234b226c9508a8": {
     "model_module": "@jupyter-widgets/controls",
     "model_module_version": "1.5.0",
     "model_name": "HTMLModel",
     "state": {
      "_dom_classes": [],
      "_model_module": "@jupyter-widgets/controls",
      "_model_module_version": "1.5.0",
      "_model_name": "HTMLModel",
      "_view_count": null,
      "_view_module": "@jupyter-widgets/controls",
      "_view_module_version": "1.5.0",
      "_view_name": "HTMLView",
      "description": "",
      "description_tooltip": null,
      "layout": "IPY_MODEL_f924ca04717f4ff88a7a5452cfd9f8db",
      "placeholder": "​",
      "style": "IPY_MODEL_22464ad7bad04266b11ab0301393e555",
      "value": " 18390/18390 [00:03&lt;00:00, 5060.40it/s]"
     }
    },
    "4cd0d42bb6ad45e0b837120fa25083b3": {
     "model_module": "@jupyter-widgets/controls",
     "model_module_version": "1.5.0",
     "model_name": "DescriptionStyleModel",
     "state": {
      "_model_module": "@jupyter-widgets/controls",
      "_model_module_version": "1.5.0",
      "_model_name": "DescriptionStyleModel",
      "_view_count": null,
      "_view_module": "@jupyter-widgets/base",
      "_view_module_version": "1.2.0",
      "_view_name": "StyleView",
      "description_width": ""
     }
    },
    "4d7b064bea77465a923e69dd835cf2d0": {
     "model_module": "@jupyter-widgets/controls",
     "model_module_version": "1.5.0",
     "model_name": "HBoxModel",
     "state": {
      "_dom_classes": [],
      "_model_module": "@jupyter-widgets/controls",
      "_model_module_version": "1.5.0",
      "_model_name": "HBoxModel",
      "_view_count": null,
      "_view_module": "@jupyter-widgets/controls",
      "_view_module_version": "1.5.0",
      "_view_name": "HBoxView",
      "box_style": "",
      "children": [
       "IPY_MODEL_2e22b0be537142fa9d091b21d3119f43",
       "IPY_MODEL_8cbdaa040f2e47eb8a8a7985584b706b",
       "IPY_MODEL_00a85c4e9431469384bdbb770b0bbf5b"
      ],
      "layout": "IPY_MODEL_dfb8b8c7069a4ea48a894300e9d5ee40"
     }
    },
    "59923d2954d341f98cca95d675e716ae": {
     "model_module": "@jupyter-widgets/controls",
     "model_module_version": "1.5.0",
     "model_name": "HBoxModel",
     "state": {
      "_dom_classes": [],
      "_model_module": "@jupyter-widgets/controls",
      "_model_module_version": "1.5.0",
      "_model_name": "HBoxModel",
      "_view_count": null,
      "_view_module": "@jupyter-widgets/controls",
      "_view_module_version": "1.5.0",
      "_view_name": "HBoxView",
      "box_style": "",
      "children": [
       "IPY_MODEL_4955437a41f242499dae431767f6c029",
       "IPY_MODEL_15bf32c8ea8e4334b0c80c572c87ef81",
       "IPY_MODEL_4a07e60d8068479b84234b226c9508a8"
      ],
      "layout": "IPY_MODEL_dbd663eb61c84126b63bbb07c81e37e1"
     }
    },
    "808dff45ffbf4125ac223833bd71fc75": {
     "model_module": "@jupyter-widgets/controls",
     "model_module_version": "1.5.0",
     "model_name": "ProgressStyleModel",
     "state": {
      "_model_module": "@jupyter-widgets/controls",
      "_model_module_version": "1.5.0",
      "_model_name": "ProgressStyleModel",
      "_view_count": null,
      "_view_module": "@jupyter-widgets/base",
      "_view_module_version": "1.2.0",
      "_view_name": "StyleView",
      "bar_color": null,
      "description_width": ""
     }
    },
    "8cbdaa040f2e47eb8a8a7985584b706b": {
     "model_module": "@jupyter-widgets/controls",
     "model_module_version": "1.5.0",
     "model_name": "FloatProgressModel",
     "state": {
      "_dom_classes": [],
      "_model_module": "@jupyter-widgets/controls",
      "_model_module_version": "1.5.0",
      "_model_name": "FloatProgressModel",
      "_view_count": null,
      "_view_module": "@jupyter-widgets/controls",
      "_view_module_version": "1.5.0",
      "_view_name": "ProgressView",
      "bar_style": "success",
      "description": "",
      "description_tooltip": null,
      "layout": "IPY_MODEL_08355f8444ef4631a1c22947f3699575",
      "max": 18390,
      "min": 0,
      "orientation": "horizontal",
      "style": "IPY_MODEL_808dff45ffbf4125ac223833bd71fc75",
      "value": 18390
     }
    },
    "9c34d947313346189c1cf30e9044851b": {
     "model_module": "@jupyter-widgets/base",
     "model_module_version": "1.2.0",
     "model_name": "LayoutModel",
     "state": {
      "_model_module": "@jupyter-widgets/base",
      "_model_module_version": "1.2.0",
      "_model_name": "LayoutModel",
      "_view_count": null,
      "_view_module": "@jupyter-widgets/base",
      "_view_module_version": "1.2.0",
      "_view_name": "LayoutView",
      "align_content": null,
      "align_items": null,
      "align_self": null,
      "border": null,
      "bottom": null,
      "display": null,
      "flex": null,
      "flex_flow": null,
      "grid_area": null,
      "grid_auto_columns": null,
      "grid_auto_flow": null,
      "grid_auto_rows": null,
      "grid_column": null,
      "grid_gap": null,
      "grid_row": null,
      "grid_template_areas": null,
      "grid_template_columns": null,
      "grid_template_rows": null,
      "height": null,
      "justify_content": null,
      "justify_items": null,
      "left": null,
      "margin": null,
      "max_height": null,
      "max_width": null,
      "min_height": null,
      "min_width": null,
      "object_fit": null,
      "object_position": null,
      "order": null,
      "overflow": null,
      "overflow_x": null,
      "overflow_y": null,
      "padding": null,
      "right": null,
      "top": null,
      "visibility": null,
      "width": null
     }
    },
    "bec2579d61014b0da08354445350aaaa": {
     "model_module": "@jupyter-widgets/base",
     "model_module_version": "1.2.0",
     "model_name": "LayoutModel",
     "state": {
      "_model_module": "@jupyter-widgets/base",
      "_model_module_version": "1.2.0",
      "_model_name": "LayoutModel",
      "_view_count": null,
      "_view_module": "@jupyter-widgets/base",
      "_view_module_version": "1.2.0",
      "_view_name": "LayoutView",
      "align_content": null,
      "align_items": null,
      "align_self": null,
      "border": null,
      "bottom": null,
      "display": null,
      "flex": null,
      "flex_flow": null,
      "grid_area": null,
      "grid_auto_columns": null,
      "grid_auto_flow": null,
      "grid_auto_rows": null,
      "grid_column": null,
      "grid_gap": null,
      "grid_row": null,
      "grid_template_areas": null,
      "grid_template_columns": null,
      "grid_template_rows": null,
      "height": null,
      "justify_content": null,
      "justify_items": null,
      "left": null,
      "margin": null,
      "max_height": null,
      "max_width": null,
      "min_height": null,
      "min_width": null,
      "object_fit": null,
      "object_position": null,
      "order": null,
      "overflow": null,
      "overflow_x": null,
      "overflow_y": null,
      "padding": null,
      "right": null,
      "top": null,
      "visibility": null,
      "width": null
     }
    },
    "d4b83ff1a33d41e0ac7211571e070057": {
     "model_module": "@jupyter-widgets/base",
     "model_module_version": "1.2.0",
     "model_name": "LayoutModel",
     "state": {
      "_model_module": "@jupyter-widgets/base",
      "_model_module_version": "1.2.0",
      "_model_name": "LayoutModel",
      "_view_count": null,
      "_view_module": "@jupyter-widgets/base",
      "_view_module_version": "1.2.0",
      "_view_name": "LayoutView",
      "align_content": null,
      "align_items": null,
      "align_self": null,
      "border": null,
      "bottom": null,
      "display": null,
      "flex": null,
      "flex_flow": null,
      "grid_area": null,
      "grid_auto_columns": null,
      "grid_auto_flow": null,
      "grid_auto_rows": null,
      "grid_column": null,
      "grid_gap": null,
      "grid_row": null,
      "grid_template_areas": null,
      "grid_template_columns": null,
      "grid_template_rows": null,
      "height": null,
      "justify_content": null,
      "justify_items": null,
      "left": null,
      "margin": null,
      "max_height": null,
      "max_width": null,
      "min_height": null,
      "min_width": null,
      "object_fit": null,
      "object_position": null,
      "order": null,
      "overflow": null,
      "overflow_x": null,
      "overflow_y": null,
      "padding": null,
      "right": null,
      "top": null,
      "visibility": null,
      "width": null
     }
    },
    "dbd663eb61c84126b63bbb07c81e37e1": {
     "model_module": "@jupyter-widgets/base",
     "model_module_version": "1.2.0",
     "model_name": "LayoutModel",
     "state": {
      "_model_module": "@jupyter-widgets/base",
      "_model_module_version": "1.2.0",
      "_model_name": "LayoutModel",
      "_view_count": null,
      "_view_module": "@jupyter-widgets/base",
      "_view_module_version": "1.2.0",
      "_view_name": "LayoutView",
      "align_content": null,
      "align_items": null,
      "align_self": null,
      "border": null,
      "bottom": null,
      "display": null,
      "flex": null,
      "flex_flow": null,
      "grid_area": null,
      "grid_auto_columns": null,
      "grid_auto_flow": null,
      "grid_auto_rows": null,
      "grid_column": null,
      "grid_gap": null,
      "grid_row": null,
      "grid_template_areas": null,
      "grid_template_columns": null,
      "grid_template_rows": null,
      "height": null,
      "justify_content": null,
      "justify_items": null,
      "left": null,
      "margin": null,
      "max_height": null,
      "max_width": null,
      "min_height": null,
      "min_width": null,
      "object_fit": null,
      "object_position": null,
      "order": null,
      "overflow": null,
      "overflow_x": null,
      "overflow_y": null,
      "padding": null,
      "right": null,
      "top": null,
      "visibility": null,
      "width": null
     }
    },
    "dfb8b8c7069a4ea48a894300e9d5ee40": {
     "model_module": "@jupyter-widgets/base",
     "model_module_version": "1.2.0",
     "model_name": "LayoutModel",
     "state": {
      "_model_module": "@jupyter-widgets/base",
      "_model_module_version": "1.2.0",
      "_model_name": "LayoutModel",
      "_view_count": null,
      "_view_module": "@jupyter-widgets/base",
      "_view_module_version": "1.2.0",
      "_view_name": "LayoutView",
      "align_content": null,
      "align_items": null,
      "align_self": null,
      "border": null,
      "bottom": null,
      "display": null,
      "flex": null,
      "flex_flow": null,
      "grid_area": null,
      "grid_auto_columns": null,
      "grid_auto_flow": null,
      "grid_auto_rows": null,
      "grid_column": null,
      "grid_gap": null,
      "grid_row": null,
      "grid_template_areas": null,
      "grid_template_columns": null,
      "grid_template_rows": null,
      "height": null,
      "justify_content": null,
      "justify_items": null,
      "left": null,
      "margin": null,
      "max_height": null,
      "max_width": null,
      "min_height": null,
      "min_width": null,
      "object_fit": null,
      "object_position": null,
      "order": null,
      "overflow": null,
      "overflow_x": null,
      "overflow_y": null,
      "padding": null,
      "right": null,
      "top": null,
      "visibility": null,
      "width": null
     }
    },
    "eb9accfc0f3642a3ba8def28c7bab798": {
     "model_module": "@jupyter-widgets/controls",
     "model_module_version": "1.5.0",
     "model_name": "DescriptionStyleModel",
     "state": {
      "_model_module": "@jupyter-widgets/controls",
      "_model_module_version": "1.5.0",
      "_model_name": "DescriptionStyleModel",
      "_view_count": null,
      "_view_module": "@jupyter-widgets/base",
      "_view_module_version": "1.2.0",
      "_view_name": "StyleView",
      "description_width": ""
     }
    },
    "f924ca04717f4ff88a7a5452cfd9f8db": {
     "model_module": "@jupyter-widgets/base",
     "model_module_version": "1.2.0",
     "model_name": "LayoutModel",
     "state": {
      "_model_module": "@jupyter-widgets/base",
      "_model_module_version": "1.2.0",
      "_model_name": "LayoutModel",
      "_view_count": null,
      "_view_module": "@jupyter-widgets/base",
      "_view_module_version": "1.2.0",
      "_view_name": "LayoutView",
      "align_content": null,
      "align_items": null,
      "align_self": null,
      "border": null,
      "bottom": null,
      "display": null,
      "flex": null,
      "flex_flow": null,
      "grid_area": null,
      "grid_auto_columns": null,
      "grid_auto_flow": null,
      "grid_auto_rows": null,
      "grid_column": null,
      "grid_gap": null,
      "grid_row": null,
      "grid_template_areas": null,
      "grid_template_columns": null,
      "grid_template_rows": null,
      "height": null,
      "justify_content": null,
      "justify_items": null,
      "left": null,
      "margin": null,
      "max_height": null,
      "max_width": null,
      "min_height": null,
      "min_width": null,
      "object_fit": null,
      "object_position": null,
      "order": null,
      "overflow": null,
      "overflow_x": null,
      "overflow_y": null,
      "padding": null,
      "right": null,
      "top": null,
      "visibility": null,
      "width": null
     }
    }
   }
  }
 },
 "nbformat": 4,
 "nbformat_minor": 5
}
